{
 "cells": [
  {
   "cell_type": "markdown",
   "metadata": {},
   "source": [
    "## POS tagging using modified Viterbi"
   ]
  },
  {
   "cell_type": "markdown",
   "metadata": {},
   "source": [
    "### Data Preparation"
   ]
  },
  {
   "cell_type": "code",
   "execution_count": 2,
   "metadata": {},
   "outputs": [],
   "source": [
    "#Importing libraries\n",
    "import nltk, re, pprint\n",
    "import numpy as np\n",
    "import pandas as pd\n",
    "import requests\n",
    "import matplotlib.pyplot as plt\n",
    "import seaborn as sns\n",
    "import pprint, time\n",
    "import random\n",
    "from sklearn.model_selection import train_test_split\n",
    "from nltk.tokenize import word_tokenize\n",
    "import codecs"
   ]
  },
  {
   "cell_type": "code",
   "execution_count": 3,
   "metadata": {},
   "outputs": [],
   "source": [
    "# reading the Treebank tagged sentences with universal tagset\n",
    "nltk_data = list(nltk.corpus.treebank.tagged_sents(tagset='universal'))"
   ]
  },
  {
   "cell_type": "code",
   "execution_count": 4,
   "metadata": {},
   "outputs": [
    {
     "data": {
      "text/plain": [
       "[[('Pierre', 'NOUN'),\n",
       "  ('Vinken', 'NOUN'),\n",
       "  (',', '.'),\n",
       "  ('61', 'NUM'),\n",
       "  ('years', 'NOUN'),\n",
       "  ('old', 'ADJ'),\n",
       "  (',', '.'),\n",
       "  ('will', 'VERB'),\n",
       "  ('join', 'VERB'),\n",
       "  ('the', 'DET'),\n",
       "  ('board', 'NOUN'),\n",
       "  ('as', 'ADP'),\n",
       "  ('a', 'DET'),\n",
       "  ('nonexecutive', 'ADJ'),\n",
       "  ('director', 'NOUN'),\n",
       "  ('Nov.', 'NOUN'),\n",
       "  ('29', 'NUM'),\n",
       "  ('.', '.')],\n",
       " [('Mr.', 'NOUN'),\n",
       "  ('Vinken', 'NOUN'),\n",
       "  ('is', 'VERB'),\n",
       "  ('chairman', 'NOUN'),\n",
       "  ('of', 'ADP'),\n",
       "  ('Elsevier', 'NOUN'),\n",
       "  ('N.V.', 'NOUN'),\n",
       "  (',', '.'),\n",
       "  ('the', 'DET'),\n",
       "  ('Dutch', 'NOUN'),\n",
       "  ('publishing', 'VERB'),\n",
       "  ('group', 'NOUN'),\n",
       "  ('.', '.')],\n",
       " [('Rudolph', 'NOUN'),\n",
       "  ('Agnew', 'NOUN'),\n",
       "  (',', '.'),\n",
       "  ('55', 'NUM'),\n",
       "  ('years', 'NOUN'),\n",
       "  ('old', 'ADJ'),\n",
       "  ('and', 'CONJ'),\n",
       "  ('former', 'ADJ'),\n",
       "  ('chairman', 'NOUN'),\n",
       "  ('of', 'ADP'),\n",
       "  ('Consolidated', 'NOUN'),\n",
       "  ('Gold', 'NOUN'),\n",
       "  ('Fields', 'NOUN'),\n",
       "  ('PLC', 'NOUN'),\n",
       "  (',', '.'),\n",
       "  ('was', 'VERB'),\n",
       "  ('named', 'VERB'),\n",
       "  ('*-1', 'X'),\n",
       "  ('a', 'DET'),\n",
       "  ('nonexecutive', 'ADJ'),\n",
       "  ('director', 'NOUN'),\n",
       "  ('of', 'ADP'),\n",
       "  ('this', 'DET'),\n",
       "  ('British', 'ADJ'),\n",
       "  ('industrial', 'ADJ'),\n",
       "  ('conglomerate', 'NOUN'),\n",
       "  ('.', '.')]]"
      ]
     },
     "execution_count": 4,
     "metadata": {},
     "output_type": "execute_result"
    }
   ],
   "source": [
    "#First three sentences in te dataset\n",
    "nltk_data[:3]"
   ]
  },
  {
   "cell_type": "code",
   "execution_count": 5,
   "metadata": {},
   "outputs": [
    {
     "name": "stdout",
     "output_type": "stream",
     "text": [
      "3718\n",
      "196\n"
     ]
    },
    {
     "name": "stderr",
     "output_type": "stream",
     "text": [
      "c:\\python3\\lib\\site-packages\\sklearn\\model_selection\\_split.py:2026: FutureWarning: From version 0.21, test_size will always complement train_size unless both are specified.\n",
      "  FutureWarning)\n"
     ]
    }
   ],
   "source": [
    "#set the random seed\n",
    "random.seed(1234)\n",
    "\n",
    "#Divide the data into training and test sets\n",
    "train_set, test_set = train_test_split(nltk_data,train_size=0.95)\n",
    "\n",
    "#Get the length of training and test sets\n",
    "print(len(train_set))\n",
    "print(len(test_set))"
   ]
  },
  {
   "cell_type": "code",
   "execution_count": 6,
   "metadata": {},
   "outputs": [
    {
     "data": {
      "text/plain": [
       "95678"
      ]
     },
     "execution_count": 6,
     "metadata": {},
     "output_type": "execute_result"
    }
   ],
   "source": [
    "# Getting list of tagged words in training set\n",
    "train_tagged_words = [tup for sent in train_set for tup in sent]\n",
    "#Get the length of the total tagged words in training set\n",
    "len(train_tagged_words)"
   ]
  },
  {
   "cell_type": "code",
   "execution_count": 7,
   "metadata": {},
   "outputs": [
    {
     "data": {
      "text/plain": [
       "['Old', 'Spaghetti', 'Warehouse', 'rose', '1', 'to', '16', '1\\\\/8', '.', 'The']"
      ]
     },
     "execution_count": 7,
     "metadata": {},
     "output_type": "execute_result"
    }
   ],
   "source": [
    "# View the first 10 tokens/words in the training set\n",
    "tokens = [pair[0] for pair in train_tagged_words]\n",
    "tokens[:10]"
   ]
  },
  {
   "cell_type": "code",
   "execution_count": 8,
   "metadata": {},
   "outputs": [
    {
     "name": "stdout",
     "output_type": "stream",
     "text": [
      "12083\n"
     ]
    }
   ],
   "source": [
    "# Get the total unique words in the training set\n",
    "V = set(tokens)\n",
    "print(len(V))"
   ]
  },
  {
   "cell_type": "code",
   "execution_count": 9,
   "metadata": {},
   "outputs": [
    {
     "name": "stdout",
     "output_type": "stream",
     "text": [
      "12\n",
      "{'VERB', 'ADJ', '.', 'CONJ', 'NUM', 'PRT', 'X', 'ADV', 'DET', 'ADP', 'PRON', 'NOUN'}\n"
     ]
    }
   ],
   "source": [
    "# number of pos tags in the training corpus\n",
    "T = set([pair[1] for pair in train_tagged_words])\n",
    "print(len(T))\n",
    "print(T)"
   ]
  },
  {
   "cell_type": "markdown",
   "metadata": {},
   "source": [
    "As expected there are 12 tags which are part of universal tagset"
   ]
  },
  {
   "cell_type": "markdown",
   "metadata": {},
   "source": [
    "### Build the vanilla Viterbi based POS tagger"
   ]
  },
  {
   "cell_type": "code",
   "execution_count": 10,
   "metadata": {},
   "outputs": [],
   "source": [
    "# Create numpy array of no of pos tags by total vocabulary\n",
    "t = len(T)\n",
    "v = len(V)\n",
    "w_given_t = np.zeros((t, v))"
   ]
  },
  {
   "cell_type": "code",
   "execution_count": 11,
   "metadata": {},
   "outputs": [],
   "source": [
    "# compute word given tag: Emission Probability\n",
    "def word_given_tag(word, tag, train_bag = train_tagged_words):\n",
    "    tag_list = [pair for pair in train_bag if pair[1]==tag]\n",
    "    count_tag = len(tag_list)\n",
    "    w_given_tag_list = [pair[0] for pair in tag_list if pair[0]==word]\n",
    "    count_w_given_tag = len(w_given_tag_list)\n",
    "    \n",
    "    return (count_w_given_tag, count_tag)"
   ]
  },
  {
   "cell_type": "code",
   "execution_count": 12,
   "metadata": {},
   "outputs": [],
   "source": [
    "# compute tag given tag: tag2(t2) given tag1 (t1), i.e. Transition Probability\n",
    "\n",
    "def t2_given_t1(t2, t1, train_bag = train_tagged_words):\n",
    "    tags = [pair[1] for pair in train_bag]\n",
    "    count_t1 = len([t for t in tags if t==t1])\n",
    "    count_t2_t1 = 0\n",
    "    for index in range(len(tags)-1):\n",
    "        if tags[index]==t1 and tags[index+1] == t2:\n",
    "            count_t2_t1 += 1\n",
    "    return (count_t2_t1, count_t1)"
   ]
  },
  {
   "cell_type": "code",
   "execution_count": 13,
   "metadata": {},
   "outputs": [],
   "source": [
    "# creating t x t (pos tags x pos tags)transition matrix of tags\n",
    "# each column is t2, each row is t1\n",
    "# thus M(i, j) represents P(tj given ti)\n",
    "\n",
    "tags_matrix = np.zeros((len(T), len(T)), dtype='float32')\n",
    "for i, t1 in enumerate(list(T)):\n",
    "    for j, t2 in enumerate(list(T)): \n",
    "        tags_matrix[i, j] = t2_given_t1(t2, t1)[0]/t2_given_t1(t2, t1)[1]"
   ]
  },
  {
   "cell_type": "code",
   "execution_count": 14,
   "metadata": {},
   "outputs": [
    {
     "data": {
      "text/html": [
       "<div>\n",
       "<style scoped>\n",
       "    .dataframe tbody tr th:only-of-type {\n",
       "        vertical-align: middle;\n",
       "    }\n",
       "\n",
       "    .dataframe tbody tr th {\n",
       "        vertical-align: top;\n",
       "    }\n",
       "\n",
       "    .dataframe thead th {\n",
       "        text-align: right;\n",
       "    }\n",
       "</style>\n",
       "<table border=\"1\" class=\"dataframe\">\n",
       "  <thead>\n",
       "    <tr style=\"text-align: right;\">\n",
       "      <th></th>\n",
       "      <th>VERB</th>\n",
       "      <th>ADJ</th>\n",
       "      <th>.</th>\n",
       "      <th>CONJ</th>\n",
       "      <th>NUM</th>\n",
       "      <th>PRT</th>\n",
       "      <th>X</th>\n",
       "      <th>ADV</th>\n",
       "      <th>DET</th>\n",
       "      <th>ADP</th>\n",
       "      <th>PRON</th>\n",
       "      <th>NOUN</th>\n",
       "    </tr>\n",
       "  </thead>\n",
       "  <tbody>\n",
       "    <tr>\n",
       "      <th>VERB</th>\n",
       "      <td>0.168537</td>\n",
       "      <td>0.065542</td>\n",
       "      <td>0.034899</td>\n",
       "      <td>0.005417</td>\n",
       "      <td>0.023214</td>\n",
       "      <td>0.031494</td>\n",
       "      <td>0.217132</td>\n",
       "      <td>0.081328</td>\n",
       "      <td>0.134179</td>\n",
       "      <td>0.092239</td>\n",
       "      <td>0.035441</td>\n",
       "      <td>0.110578</td>\n",
       "    </tr>\n",
       "    <tr>\n",
       "      <th>ADJ</th>\n",
       "      <td>0.012171</td>\n",
       "      <td>0.067763</td>\n",
       "      <td>0.064474</td>\n",
       "      <td>0.016941</td>\n",
       "      <td>0.020888</td>\n",
       "      <td>0.011020</td>\n",
       "      <td>0.021382</td>\n",
       "      <td>0.004770</td>\n",
       "      <td>0.004770</td>\n",
       "      <td>0.078454</td>\n",
       "      <td>0.000658</td>\n",
       "      <td>0.696711</td>\n",
       "    </tr>\n",
       "    <tr>\n",
       "      <th>.</th>\n",
       "      <td>0.089991</td>\n",
       "      <td>0.044274</td>\n",
       "      <td>0.093508</td>\n",
       "      <td>0.057980</td>\n",
       "      <td>0.080343</td>\n",
       "      <td>0.002344</td>\n",
       "      <td>0.027142</td>\n",
       "      <td>0.052750</td>\n",
       "      <td>0.175383</td>\n",
       "      <td>0.091253</td>\n",
       "      <td>0.066817</td>\n",
       "      <td>0.218124</td>\n",
       "    </tr>\n",
       "    <tr>\n",
       "      <th>CONJ</th>\n",
       "      <td>0.157723</td>\n",
       "      <td>0.112926</td>\n",
       "      <td>0.035464</td>\n",
       "      <td>0.000467</td>\n",
       "      <td>0.041064</td>\n",
       "      <td>0.005133</td>\n",
       "      <td>0.008399</td>\n",
       "      <td>0.053196</td>\n",
       "      <td>0.121792</td>\n",
       "      <td>0.051797</td>\n",
       "      <td>0.060663</td>\n",
       "      <td>0.351377</td>\n",
       "    </tr>\n",
       "    <tr>\n",
       "      <th>NUM</th>\n",
       "      <td>0.018419</td>\n",
       "      <td>0.033868</td>\n",
       "      <td>0.117053</td>\n",
       "      <td>0.013666</td>\n",
       "      <td>0.185086</td>\n",
       "      <td>0.027629</td>\n",
       "      <td>0.207071</td>\n",
       "      <td>0.002674</td>\n",
       "      <td>0.003268</td>\n",
       "      <td>0.034462</td>\n",
       "      <td>0.001485</td>\n",
       "      <td>0.355318</td>\n",
       "    </tr>\n",
       "    <tr>\n",
       "      <th>PRT</th>\n",
       "      <td>0.401562</td>\n",
       "      <td>0.085584</td>\n",
       "      <td>0.043280</td>\n",
       "      <td>0.002278</td>\n",
       "      <td>0.057598</td>\n",
       "      <td>0.001627</td>\n",
       "      <td>0.013993</td>\n",
       "      <td>0.009112</td>\n",
       "      <td>0.100879</td>\n",
       "      <td>0.020827</td>\n",
       "      <td>0.018223</td>\n",
       "      <td>0.245037</td>\n",
       "    </tr>\n",
       "    <tr>\n",
       "      <th>X</th>\n",
       "      <td>0.204585</td>\n",
       "      <td>0.016717</td>\n",
       "      <td>0.163509</td>\n",
       "      <td>0.009712</td>\n",
       "      <td>0.002866</td>\n",
       "      <td>0.186117</td>\n",
       "      <td>0.074829</td>\n",
       "      <td>0.026588</td>\n",
       "      <td>0.053495</td>\n",
       "      <td>0.146155</td>\n",
       "      <td>0.055087</td>\n",
       "      <td>0.060341</td>\n",
       "    </tr>\n",
       "    <tr>\n",
       "      <th>ADV</th>\n",
       "      <td>0.344862</td>\n",
       "      <td>0.129365</td>\n",
       "      <td>0.136349</td>\n",
       "      <td>0.007316</td>\n",
       "      <td>0.031926</td>\n",
       "      <td>0.014300</td>\n",
       "      <td>0.021949</td>\n",
       "      <td>0.079814</td>\n",
       "      <td>0.070170</td>\n",
       "      <td>0.117060</td>\n",
       "      <td>0.014633</td>\n",
       "      <td>0.032258</td>\n",
       "    </tr>\n",
       "    <tr>\n",
       "      <th>DET</th>\n",
       "      <td>0.041084</td>\n",
       "      <td>0.203976</td>\n",
       "      <td>0.017229</td>\n",
       "      <td>0.000482</td>\n",
       "      <td>0.022169</td>\n",
       "      <td>0.000241</td>\n",
       "      <td>0.045904</td>\n",
       "      <td>0.012651</td>\n",
       "      <td>0.004940</td>\n",
       "      <td>0.009518</td>\n",
       "      <td>0.003253</td>\n",
       "      <td>0.638554</td>\n",
       "    </tr>\n",
       "    <tr>\n",
       "      <th>ADP</th>\n",
       "      <td>0.008407</td>\n",
       "      <td>0.106843</td>\n",
       "      <td>0.039694</td>\n",
       "      <td>0.000958</td>\n",
       "      <td>0.061828</td>\n",
       "      <td>0.001490</td>\n",
       "      <td>0.034798</td>\n",
       "      <td>0.013728</td>\n",
       "      <td>0.323720</td>\n",
       "      <td>0.016920</td>\n",
       "      <td>0.069277</td>\n",
       "      <td>0.322337</td>\n",
       "    </tr>\n",
       "    <tr>\n",
       "      <th>PRON</th>\n",
       "      <td>0.484674</td>\n",
       "      <td>0.071264</td>\n",
       "      <td>0.040996</td>\n",
       "      <td>0.004981</td>\n",
       "      <td>0.006897</td>\n",
       "      <td>0.012644</td>\n",
       "      <td>0.093487</td>\n",
       "      <td>0.034100</td>\n",
       "      <td>0.009962</td>\n",
       "      <td>0.022605</td>\n",
       "      <td>0.007663</td>\n",
       "      <td>0.210728</td>\n",
       "    </tr>\n",
       "    <tr>\n",
       "      <th>NOUN</th>\n",
       "      <td>0.147110</td>\n",
       "      <td>0.012186</td>\n",
       "      <td>0.238872</td>\n",
       "      <td>0.042469</td>\n",
       "      <td>0.009596</td>\n",
       "      <td>0.043892</td>\n",
       "      <td>0.029116</td>\n",
       "      <td>0.016820</td>\n",
       "      <td>0.012916</td>\n",
       "      <td>0.177248</td>\n",
       "      <td>0.004670</td>\n",
       "      <td>0.265105</td>\n",
       "    </tr>\n",
       "  </tbody>\n",
       "</table>\n",
       "</div>"
      ],
      "text/plain": [
       "          VERB       ADJ         .      CONJ       NUM       PRT         X  \\\n",
       "VERB  0.168537  0.065542  0.034899  0.005417  0.023214  0.031494  0.217132   \n",
       "ADJ   0.012171  0.067763  0.064474  0.016941  0.020888  0.011020  0.021382   \n",
       ".     0.089991  0.044274  0.093508  0.057980  0.080343  0.002344  0.027142   \n",
       "CONJ  0.157723  0.112926  0.035464  0.000467  0.041064  0.005133  0.008399   \n",
       "NUM   0.018419  0.033868  0.117053  0.013666  0.185086  0.027629  0.207071   \n",
       "PRT   0.401562  0.085584  0.043280  0.002278  0.057598  0.001627  0.013993   \n",
       "X     0.204585  0.016717  0.163509  0.009712  0.002866  0.186117  0.074829   \n",
       "ADV   0.344862  0.129365  0.136349  0.007316  0.031926  0.014300  0.021949   \n",
       "DET   0.041084  0.203976  0.017229  0.000482  0.022169  0.000241  0.045904   \n",
       "ADP   0.008407  0.106843  0.039694  0.000958  0.061828  0.001490  0.034798   \n",
       "PRON  0.484674  0.071264  0.040996  0.004981  0.006897  0.012644  0.093487   \n",
       "NOUN  0.147110  0.012186  0.238872  0.042469  0.009596  0.043892  0.029116   \n",
       "\n",
       "           ADV       DET       ADP      PRON      NOUN  \n",
       "VERB  0.081328  0.134179  0.092239  0.035441  0.110578  \n",
       "ADJ   0.004770  0.004770  0.078454  0.000658  0.696711  \n",
       ".     0.052750  0.175383  0.091253  0.066817  0.218124  \n",
       "CONJ  0.053196  0.121792  0.051797  0.060663  0.351377  \n",
       "NUM   0.002674  0.003268  0.034462  0.001485  0.355318  \n",
       "PRT   0.009112  0.100879  0.020827  0.018223  0.245037  \n",
       "X     0.026588  0.053495  0.146155  0.055087  0.060341  \n",
       "ADV   0.079814  0.070170  0.117060  0.014633  0.032258  \n",
       "DET   0.012651  0.004940  0.009518  0.003253  0.638554  \n",
       "ADP   0.013728  0.323720  0.016920  0.069277  0.322337  \n",
       "PRON  0.034100  0.009962  0.022605  0.007663  0.210728  \n",
       "NOUN  0.016820  0.012916  0.177248  0.004670  0.265105  "
      ]
     },
     "execution_count": 14,
     "metadata": {},
     "output_type": "execute_result"
    }
   ],
   "source": [
    "# convert the matrix to a df for better readability\n",
    "tags_df = pd.DataFrame(tags_matrix, columns = list(T), index=list(T))\n",
    "tags_df"
   ]
  },
  {
   "cell_type": "code",
   "execution_count": 15,
   "metadata": {},
   "outputs": [
    {
     "data": {
      "image/png": "[encoded data removed]",
      "text/plain": [
       "<matplotlib.figure.Figure at 0x1d1e8f372b0>"
      ]
     },
     "metadata": {},
     "output_type": "display_data"
    }
   ],
   "source": [
    "# heatmap of tags matrix\n",
    "# T(i, j) indicates P(tag j given tag i)\n",
    "plt.figure(figsize=(18, 12))\n",
    "sns.heatmap(tags_df)\n",
    "plt.show()"
   ]
  },
  {
   "cell_type": "code",
   "execution_count": 16,
   "metadata": {},
   "outputs": [
    {
     "data": {
      "image/png": "[encoded data removed]",
      "text/plain": [
       "<matplotlib.figure.Figure at 0x1d1ebd68860>"
      ]
     },
     "metadata": {},
     "output_type": "display_data"
    }
   ],
   "source": [
    "# frequent tags\n",
    "# filter the df to get P(t2, t1) > 0.5\n",
    "tags_frequent = tags_df[tags_df>0.5]\n",
    "plt.figure(figsize=(18, 12))\n",
    "sns.heatmap(tags_frequent)\n",
    "plt.show()"
   ]
  },
  {
   "cell_type": "markdown",
   "metadata": {},
   "source": [
    "Clearly as expected Noun and Adjective and Noun and Determinent are highly correlated. Most often nouns are followed by adjectives and detectives"
   ]
  },
  {
   "cell_type": "code",
   "execution_count": 17,
   "metadata": {},
   "outputs": [
    {
     "data": {
      "text/plain": [
       "95678"
      ]
     },
     "execution_count": 17,
     "metadata": {},
     "output_type": "execute_result"
    }
   ],
   "source": [
    "#Get the total length of tagged words in training corpus\n",
    "len(train_tagged_words)"
   ]
  },
  {
   "cell_type": "code",
   "execution_count": 18,
   "metadata": {},
   "outputs": [],
   "source": [
    "# Viterbi Heuristic\n",
    "def Viterbi(words, train_bag = train_tagged_words):\n",
    "    state = []\n",
    "    T = list(set([pair[1] for pair in train_bag]))\n",
    "    \n",
    "    for key, word in enumerate(words):\n",
    "        #initialise list of probability column for a given observation\n",
    "        p = [] \n",
    "        for tag in T:\n",
    "            if key == 0:\n",
    "                transition_p = tags_df.loc['.', tag]\n",
    "            else:\n",
    "                transition_p = tags_df.loc[state[-1], tag]\n",
    "                \n",
    "            # compute emission and state probabilities\n",
    "            emission_p = word_given_tag(words[key], tag)[0]/word_given_tag(words[key], tag)[1]\n",
    "            state_probability = emission_p * transition_p    \n",
    "            p.append(state_probability)\n",
    "            \n",
    "        pmax = max(p)\n",
    "        # getting state for which probability is maximum\n",
    "        state_max = T[p.index(pmax)] \n",
    "        state.append(state_max)\n",
    "    return list(zip(words, state))"
   ]
  },
  {
   "cell_type": "code",
   "execution_count": 19,
   "metadata": {},
   "outputs": [],
   "source": [
    "# Running on entire test dataset would take more than 3-4hrs. \n",
    "# Let's test our Viterbi algorithm on a few sample sentences of test dataset\n",
    "\n",
    "\n",
    "# list of tagged words in test set\n",
    "test_run_base = [tup for sent in test_set for tup in sent]\n",
    "\n",
    "# list of  words which are untagged in test set\n",
    "test_tagged_words = [tup[0] for sent in test_set for tup in sent]"
   ]
  },
  {
   "cell_type": "code",
   "execution_count": 20,
   "metadata": {},
   "outputs": [],
   "source": [
    "# tagging the test sentences\n",
    "start = time.time()\n",
    "tagged_seq = Viterbi(test_tagged_words)\n",
    "end = time.time()\n",
    "difference = end-start"
   ]
  },
  {
   "cell_type": "code",
   "execution_count": 21,
   "metadata": {},
   "outputs": [
    {
     "name": "stdout",
     "output_type": "stream",
     "text": [
      "765.2703437805176\n"
     ]
    }
   ],
   "source": [
    "#Print total time taken to train the algorithm\n",
    "print(difference)"
   ]
  },
  {
   "cell_type": "code",
   "execution_count": 22,
   "metadata": {},
   "outputs": [
    {
     "name": "stdout",
     "output_type": "stream",
     "text": [
      "0.9125650260104041\n"
     ]
    }
   ],
   "source": [
    "# Get accuracy of model\n",
    "check = [i for i, j in zip(tagged_seq, test_run_base) if i == j] \n",
    "accuracy = len(check)/len(tagged_seq)\n",
    "print(accuracy)"
   ]
  },
  {
   "cell_type": "markdown",
   "metadata": {},
   "source": [
    "We get around 90% of accuracy with the default Viterbi algorithm.\n",
    "\n",
    "Let's compare with the test sentences and see how it tagged the sentences"
   ]
  },
  {
   "cell_type": "code",
   "execution_count": 23,
   "metadata": {},
   "outputs": [
    {
     "name": "stdout",
     "output_type": "stream",
     "text": [
      "Android is a mobile operating system developed by Google.\r\n",
      "\n",
      "Android has been the best-selling OS worldwide on smartphones since 2011 and on tablets since 2013.\r\n",
      "\n",
      "Google and Twitter made a deal in 2015 that gave Google access to Twitter's firehose.\r\n",
      "\n",
      "Twitter is an online news and social networking service on which users post and interact with messages known as tweets.\r\n",
      "\n",
      "Before entering politics, Donald Trump was a domineering businessman and a television personality.\r\n",
      "\n",
      "The 2018 FIFA World Cup is the 21st FIFA World Cup, an international football tournament contested once every four years.\r\n",
      "\n",
      "This is the first World Cup to be held in Eastern Europe and the 11th time that it has been held in Europe.\r\n",
      "\n",
      "Show me the cheapest round trips from Dallas to Atlanta\r\n",
      "\n",
      "I would like to see flights from Denver to Philadelphia.\r\n",
      "\n",
      "Show me the price of the flights leaving Atlanta at about 3 in the afternoon and arriving in San Francisco.\r\n",
      "\n",
      "NASA invited social media users to experience the launch of ICESAT-2 Satellite.\r\n",
      "\n",
      "\r\n",
      "\n",
      "\r\n",
      "\n",
      "\r\n",
      "\n"
     ]
    }
   ],
   "source": [
    "#Read the text file\n",
    "lines=[]\n",
    "f = codecs.open(\"Test_sentences.txt\", encoding='utf-8')\n",
    "for line in f:\n",
    "    print(line)\n",
    "    lines.append(line)"
   ]
  },
  {
   "cell_type": "markdown",
   "metadata": {},
   "source": [
    "### Solve the problem of unknown words"
   ]
  },
  {
   "cell_type": "code",
   "execution_count": 24,
   "metadata": {},
   "outputs": [
    {
     "data": {
      "text/plain": [
       "['Android is a mobile operating system developed by Google.\\r\\n',\n",
       " 'Android has been the best-selling OS worldwide on smartphones since 2011 and on tablets since 2013.\\r\\n',\n",
       " \"Google and Twitter made a deal in 2015 that gave Google access to Twitter's firehose.\\r\\n\",\n",
       " 'Twitter is an online news and social networking service on which users post and interact with messages known as tweets.\\r\\n',\n",
       " 'Before entering politics, Donald Trump was a domineering businessman and a television personality.\\r\\n',\n",
       " 'The 2018 FIFA World Cup is the 21st FIFA World Cup, an international football tournament contested once every four years.\\r\\n',\n",
       " 'This is the first World Cup to be held in Eastern Europe and the 11th time that it has been held in Europe.\\r\\n',\n",
       " 'Show me the cheapest round trips from Dallas to Atlanta\\r\\n',\n",
       " 'I would like to see flights from Denver to Philadelphia.\\r\\n',\n",
       " 'Show me the price of the flights leaving Atlanta at about 3 in the afternoon and arriving in San Francisco.\\r\\n',\n",
       " 'NASA invited social media users to experience the launch of ICESAT-2 Satellite.\\r\\n',\n",
       " '\\r\\n',\n",
       " '\\r\\n',\n",
       " '\\r\\n']"
      ]
     },
     "execution_count": 24,
     "metadata": {},
     "output_type": "execute_result"
    }
   ],
   "source": [
    "lines"
   ]
  },
  {
   "cell_type": "code",
   "execution_count": 25,
   "metadata": {},
   "outputs": [
    {
     "data": {
      "text/plain": [
       "['Android is a mobile operating system developed by Google.',\n",
       " 'Android has been the best-selling OS worldwide on smartphones since 2011 and on tablets since 2013.',\n",
       " \"Google and Twitter made a deal in 2015 that gave Google access to Twitter's firehose.\",\n",
       " 'Twitter is an online news and social networking service on which users post and interact with messages known as tweets.',\n",
       " 'Before entering politics, Donald Trump was a domineering businessman and a television personality.',\n",
       " 'The 2018 FIFA World Cup is the 21st FIFA World Cup, an international football tournament contested once every four years.',\n",
       " 'This is the first World Cup to be held in Eastern Europe and the 11th time that it has been held in Europe.',\n",
       " 'Show me the cheapest round trips from Dallas to Atlanta',\n",
       " 'I would like to see flights from Denver to Philadelphia.',\n",
       " 'Show me the price of the flights leaving Atlanta at about 3 in the afternoon and arriving in San Francisco.',\n",
       " 'NASA invited social media users to experience the launch of ICESAT-2 Satellite.']"
      ]
     },
     "execution_count": 25,
     "metadata": {},
     "output_type": "execute_result"
    }
   ],
   "source": [
    "#Strip the special characters and empty strings in the list file\n",
    "test_lines =[sent.rstrip() for sent in lines if sent.rstrip()!='']\n",
    "test_lines"
   ]
  },
  {
   "cell_type": "code",
   "execution_count": 26,
   "metadata": {},
   "outputs": [
    {
     "data": {
      "text/plain": [
       "[[('legal', 'ADJ'), (('absurdity', 'VERB'), ('absurdity', 'NOUN'))],\n",
       " [('another', 'DET'), (('notch', 'VERB'), ('notch', 'NOUN'))],\n",
       " [('case', 'NOUN'), (('that', 'ADP'), ('that', 'DET'))],\n",
       " [('watches', 'NOUN'), (('that', 'ADP'), ('that', 'DET'))],\n",
       " [('U.S.', 'NOUN'), (('possessions', 'VERB'), ('possessions', 'NOUN'))],\n",
       " [('.', '.'), (('Most', 'ADJ'), ('Most', 'ADV'))],\n",
       " [('has', 'VERB'), (('as', 'ADP'), ('as', 'ADV'))],\n",
       " [('the', 'DET'), (('right', 'NOUN'), ('right', 'ADJ'))],\n",
       " [('this', 'DET'), (('minute', 'ADJ'), ('minute', 'NOUN'))],\n",
       " [('the', 'DET'), (('earliest', 'VERB'), ('earliest', 'ADJ'))],\n",
       " [('$', '.'), (('374.20', 'VERB'), ('374.20', 'NUM'))],\n",
       " [(',', '.'), (('down', 'ADV'), ('down', 'ADP'))],\n",
       " [('buying', 'VERB'), (('more', 'ADV'), ('more', 'ADJ'))],\n",
       " [('tracking', 'VERB'), (('down', 'ADV'), ('down', 'PRT'))],\n",
       " [('whose', 'PRON'), (('addresses', 'VERB'), ('addresses', 'NOUN'))],\n",
       " [('administrative', 'ADJ'), (('nightmare', 'VERB'), ('nightmare', 'NOUN'))],\n",
       " [('The', 'DET'), (('unavailability', 'VERB'), ('unavailability', 'NOUN'))],\n",
       " [('the', 'DET'), (('more', 'ADJ'), ('more', 'ADV'))],\n",
       " [('visible', 'ADJ'), (('foundations', 'VERB'), ('foundations', 'NOUN'))],\n",
       " [('provide', 'VERB'), (('support', 'VERB'), ('support', 'NOUN'))],\n",
       " [('to', 'PRT'), (('report', 'NOUN'), ('report', 'VERB'))],\n",
       " [('$', '.'), (('19.3', 'VERB'), ('19.3', 'NUM'))],\n",
       " [('first', 'ADJ'), (('half', 'NOUN'), ('half', 'DET'))],\n",
       " [('$', '.'), (('5.9', 'VERB'), ('5.9', 'NUM'))],\n",
       " [('discussing', 'VERB'), (('plans', 'VERB'), ('plans', 'NOUN'))],\n",
       " [('767', 'NUM'), (('twin-jet', 'VERB'), ('twin-jet', 'NOUN'))],\n",
       " [('attack', 'NOUN'), (('commercials', 'VERB'), ('commercials', 'NOUN'))],\n",
       " [('commercials', 'NOUN'), (('that', 'ADP'), ('that', 'DET'))],\n",
       " [('in', 'ADP'), (('idiomatic', 'VERB'), ('idiomatic', 'ADJ'))],\n",
       " [('hefty', 'ADJ'), (('dashes', 'VERB'), ('dashes', 'NOUN'))],\n",
       " [('its', 'PRON'), (('vow', 'VERB'), ('vow', 'NOUN'))],\n",
       " [('has', 'VERB'), (('staunchly', 'VERB'), ('staunchly', 'ADV'))],\n",
       " [('opposed', 'VERB'), (('cost-sharing', 'ADJ'), ('cost-sharing', 'NOUN'))],\n",
       " [('its', 'PRON'), (('retail', 'ADJ'), ('retail', 'NOUN'))],\n",
       " [(\"'s\", 'PRT'), (('workforce', 'VERB'), ('workforce', 'NOUN'))],\n",
       " [('in', 'ADP'), (('half', 'DET'), ('half', 'NOUN'))],\n",
       " [('average', 'ADJ'), (('net', 'ADJ'), ('net', 'NOUN'))],\n",
       " [('But', 'CONJ'), (('much', 'ADJ'), ('much', 'ADV'))],\n",
       " [('*T*-1', 'X'), (('Miles', 'VERB'), ('Miles', 'NOUN'))],\n",
       " [('Miles', 'NOUN'), (('Barth', 'VERB'), ('Barth', 'NOUN'))],\n",
       " [('of', 'ADP'), (('Photography', 'VERB'), ('Photography', 'NOUN'))],\n",
       " [(\"'s\", 'PRT'), (('Church', 'VERB'), ('Church', 'NOUN'))],\n",
       " [('in', 'ADP'), (('Ilminster', 'VERB'), ('Ilminster', 'NOUN'))],\n",
       " [(',', '.'), (('Somerset', 'VERB'), ('Somerset', 'NOUN'))],\n",
       " [('silent', 'ADJ'), (('following', 'NOUN'), ('following', 'VERB'))],\n",
       " [('a', 'DET'), (('dust-up', 'VERB'), ('dust-up', 'NOUN'))],\n",
       " [('church', 'NOUN'), (('attendance', 'VERB'), ('attendance', 'NOUN'))],\n",
       " [('as', 'ADP'), (('inadequate', 'VERB'), ('inadequate', 'ADJ'))],\n",
       " [('open', 'ADJ'),\n",
       "  (('direct-investment', 'VERB'), ('direct-investment', 'ADJ'))],\n",
       " [('state-owned', 'ADJ'), (('holding', 'NOUN'), ('holding', 'VERB'))],\n",
       " [('Gerald', 'NOUN'), (('Ratner', 'VERB'), ('Ratner', 'NOUN'))],\n",
       " [('.', '.'), (('PAPERS', 'VERB'), ('PAPERS', 'NOUN'))],\n",
       " [('*T*-1', 'X'), ((\"'s\", 'PRT'), (\"'s\", 'VERB'))],\n",
       " [('exchange', 'NOUN'), (('collateral', 'VERB'), ('collateral', 'NOUN'))],\n",
       " [('.', '.'), (('Sure', 'VERB'), ('Sure', 'ADV'))],\n",
       " [('the', 'DET'), (('embassy', 'VERB'), ('embassy', 'NOUN'))],\n",
       " [('the', 'DET'),\n",
       "  (('machine-gun-toting', 'VERB'), ('machine-gun-toting', 'ADJ'))],\n",
       " [('The', 'DET'), (('Senate-House', 'VERB'), ('Senate-House', 'ADJ'))],\n",
       " [('funds', 'NOUN'), (('that', 'ADP'), ('that', 'DET'))],\n",
       " [('the', 'DET'), (('Palestinian', 'ADJ'), ('Palestinian', 'NOUN'))],\n",
       " [('committee', 'NOUN'), (('first', 'ADJ'), ('first', 'ADV'))],\n",
       " [('.', '.'), (('Mostly', 'VERB'), ('Mostly', 'ADV'))],\n",
       " [('to', 'PRT'), (('self-esteem', 'VERB'), ('self-esteem', 'NOUN'))],\n",
       " [('under', 'ADP'), (('cultivation', 'VERB'), ('cultivation', 'NOUN'))],\n",
       " [(',', '.'), (('soybeans', 'VERB'), ('soybeans', 'NOUN'))],\n",
       " [('prices', 'NOUN'), (('that', 'ADP'), ('that', 'DET'))],\n",
       " [('grain', 'NOUN'), (('buying', 'VERB'), ('buying', 'NOUN'))],\n",
       " [('is', 'VERB'), (('sweeping', 'ADJ'), ('sweeping', 'VERB'))],\n",
       " [('.', '.'), (('Third', 'VERB'), ('Third', 'ADJ'))],\n",
       " [(':', '.'), (('Net', 'NOUN'), ('Net', 'ADJ'))],\n",
       " [('$', '.'), (('11.57', 'VERB'), ('11.57', 'NUM'))],\n",
       " [('share', 'NOUN'), (('vs.', 'ADP'), ('vs.', 'CONJ'))],\n",
       " [('vs.', 'CONJ'), (('net', 'ADJ'), ('net', 'NOUN'))],\n",
       " [('hit', 'VERB'), (('*-95', 'VERB'), ('*-95', 'X'))],\n",
       " [(\"'s\", 'PRT'), (('real-estate', 'NOUN'), ('real-estate', 'ADJ'))],\n",
       " [('$', '.'), (('121.6', 'VERB'), ('121.6', 'NUM'))],\n",
       " [('the', 'DET'), (('mothers', 'VERB'), ('mothers', 'NOUN'))],\n",
       " [('several', 'ADJ'), (('thousand', 'VERB'), ('thousand', 'NUM'))],\n",
       " [('whose', 'PRON'), (('brand', 'VERB'), ('brand', 'NOUN'))],\n",
       " [('of', 'ADP'), (('Church', 'VERB'), ('Church', 'NOUN'))],\n",
       " [('with', 'ADP'), (('vicars', 'VERB'), ('vicars', 'NOUN'))],\n",
       " [('unusual', 'ADJ'), (('write-downs', 'VERB'), ('write-downs', 'NOUN'))],\n",
       " [('$', '.'), (('4.9', 'VERB'), ('4.9', 'NUM'))],\n",
       " [('a', 'DET'), (('litany', 'VERB'), ('litany', 'NOUN'))],\n",
       " [('nervous', 'ADJ'), (('breakdown', 'VERB'), ('breakdown', 'NOUN'))],\n",
       " [('.', '.'), (('Net', 'NOUN'), ('Net', 'ADJ'))],\n",
       " [('to', 'PRT'), (('4.898', 'VERB'), ('4.898', 'NUM'))],\n",
       " [('from', 'ADP'), (('1.457', 'VERB'), ('1.457', 'NUM'))],\n",
       " [('year', 'NOUN'), (('earlier', 'ADV'), ('earlier', 'ADJ'))],\n",
       " [('employee', 'NOUN'), (('morale', 'VERB'), ('morale', 'NOUN'))],\n",
       " [('Institution', 'NOUN'), (('off', 'PRT'), ('off', 'ADP'))],\n",
       " [('worship', 'NOUN'), ((\"'\", 'PRT'), (\"'\", '.'))],\n",
       " [('the', 'DET'), (('Church', 'VERB'), ('Church', 'NOUN'))],\n",
       " [('England', 'NOUN'), (('steadily', 'VERB'), ('steadily', 'ADV'))],\n",
       " [(',', '.'), (('strong-willed', 'VERB'), ('strong-willed', 'ADJ'))],\n",
       " [('strong-willed', 'ADJ'), (('vicars', 'VERB'), ('vicars', 'NOUN'))],\n",
       " [('equally', 'ADV'), (('strong-willed', 'VERB'), ('strong-willed', 'ADJ'))],\n",
       " [('often', 'ADV'), (('non-religious', 'VERB'), ('non-religious', 'ADJ'))],\n",
       " [('was', 'VERB'), (('executive', 'ADJ'), ('executive', 'NOUN'))],\n",
       " [('this', 'DET'),\n",
       "  (('electric-utility', 'VERB'), ('electric-utility', 'NOUN'))],\n",
       " [('electric-utility', 'NOUN'), (('holding', 'VERB'), ('holding', 'NOUN'))],\n",
       " [('from', 'ADP'), (('unfounded', 'VERB'), ('unfounded', 'ADJ'))],\n",
       " [('unfounded', 'ADJ'),\n",
       "  (('interrogation', 'VERB'), ('interrogation', 'NOUN'))],\n",
       " [('.', '.'), (('Economists', 'VERB'), ('Economists', 'NOUN'))],\n",
       " [('a', 'DET'), (('buildup', 'VERB'), ('buildup', 'NOUN'))],\n",
       " [('production', 'NOUN'), (('that', 'ADP'), ('that', 'DET'))],\n",
       " [('Wilder', 'NOUN'), (('talks', 'NOUN'), ('talks', 'VERB'))],\n",
       " [('the', 'DET'), (('scams', 'VERB'), ('scams', 'NOUN'))],\n",
       " [('show', 'VERB'), (('much', 'ADV'), ('much', 'ADJ'))],\n",
       " [('much', 'ADJ'), (('ingenuity', 'VERB'), ('ingenuity', 'NOUN'))],\n",
       " [(':', '.'), (('Auditors', 'VERB'), ('Auditors', 'NOUN'))],\n",
       " [('found', 'VERB'), (('crookery', 'VERB'), ('crookery', 'NOUN'))],\n",
       " [('In', 'ADP'), (('early', 'ADJ'), ('early', 'ADV'))],\n",
       " [('$', '.'), (('374.19', 'VERB'), ('374.19', 'NUM'))],\n",
       " [('a', 'DET'), (('roll', 'VERB'), ('roll', 'NOUN'))],\n",
       " [('picked', 'VERB'), (('up', 'ADV'), ('up', 'PRT'))],\n",
       " [('up', 'PRT'), (('that', 'ADP'), ('that', 'DET'))],\n",
       " [('Virginia', 'NOUN'), (('Polytechnic', 'VERB'), ('Polytechnic', 'NOUN'))],\n",
       " [('the', 'DET'), (('most', 'ADJ'), ('most', 'ADV'))],\n",
       " [('its', 'PRON'), (('merits', 'VERB'), ('merits', 'NOUN'))],\n",
       " [('biggest', 'ADJ'), (('issuers', 'VERB'), ('issuers', 'NOUN'))],\n",
       " [('corporate', 'ADJ'), (('IOUs', 'VERB'), ('IOUs', 'NOUN'))],\n",
       " [('.', '.'), (('Researchers', 'VERB'), ('Researchers', 'NOUN'))],\n",
       " [('at', 'ADP'), (('American', 'ADJ'), ('American', 'NOUN'))],\n",
       " [('materials', 'NOUN'), (('closer', 'ADV'), ('closer', 'ADJ'))],\n",
       " [('creating', 'VERB'), (('more', 'ADV'), ('more', 'ADJ'))],\n",
       " [('the', 'DET'), (('genie', 'VERB'), ('genie', 'NOUN'))],\n",
       " [('Svenska', 'NOUN'), (('Intecknings', 'VERB'), ('Intecknings', 'NOUN'))],\n",
       " [('Intecknings', 'NOUN'), (('Garanti', 'VERB'), ('Garanti', 'NOUN'))],\n",
       " [('Garanti', 'NOUN'), (('Aktiebolaget', 'VERB'), ('Aktiebolaget', 'NOUN'))],\n",
       " [('-LRB-', '.'), (('Sweden', 'VERB'), ('Sweden', 'NOUN'))],\n",
       " [('--', '.'), (('Next', 'VERB'), ('Next', 'ADJ'))],\n",
       " [('the', 'DET'), (('Philippine', 'VERB'), ('Philippine', 'NOUN'))],\n",
       " [(\"'s\", 'PRT'), (('launch', 'VERB'), ('launch', 'NOUN'))],\n",
       " [('be', 'VERB'), (('capped', 'ADJ'), ('capped', 'VERB'))],\n",
       " [('by', 'ADP'), (('Philippine', 'VERB'), ('Philippine', 'ADJ'))],\n",
       " [('President', 'NOUN'), (('Corazon', 'VERB'), ('Corazon', 'NOUN'))],\n",
       " [('Corazon', 'NOUN'), (('Aquino', 'VERB'), ('Aquino', 'NOUN'))],\n",
       " [('--', '.'), (('the', 'DET'), ('the', 'NOUN'))],\n",
       " [('New', 'NOUN'), (('Orleans-based', 'VERB'), ('Orleans-based', 'ADJ'))],\n",
       " [('will', 'VERB'), (('exchange', 'NOUN'), ('exchange', 'VERB'))],\n",
       " [('a', 'DET'), (('yet-to-be-formed', 'VERB'), ('yet-to-be-formed', 'ADJ'))],\n",
       " [('those', 'DET'), (('columns', 'VERB'), ('columns', 'NOUN'))],\n",
       " [('the', 'DET'), (('refrigerator', 'VERB'), ('refrigerator', 'NOUN'))],\n",
       " [('in', 'ADP'), (('Sino-U.S.', 'NOUN'), ('Sino-U.S.', 'ADJ'))],\n",
       " [('.', '.'), (('INGERSOLL-RAND', 'VERB'), ('INGERSOLL-RAND', 'NOUN'))],\n",
       " [('-LRB-', '.'), (('Woodcliff', 'VERB'), ('Woodcliff', 'NOUN'))],\n",
       " [('about', 'ADP'), (('jurisdictional', 'VERB'), ('jurisdictional', 'ADJ'))],\n",
       " [('which', 'DET'), (('*T*-217', 'VERB'), ('*T*-217', 'X'))],\n",
       " [('.', '.'), (('Lead', 'VERB'), ('Lead', 'ADJ'))],\n",
       " [('are', 'VERB'), (('Scotia', 'VERB'), ('Scotia', 'NOUN'))],\n",
       " [('Scotia', 'NOUN'), (('McLeod', 'VERB'), ('McLeod', 'NOUN'))],\n",
       " [('and', 'CONJ'), (('RBC', 'VERB'), ('RBC', 'NOUN'))],\n",
       " [('RBC', 'NOUN'), (('Dominion', 'VERB'), ('Dominion', 'NOUN'))],\n",
       " [('who', 'PRON'), (('*T*-169', 'VERB'), ('*T*-169', 'X'))],\n",
       " [('also', 'ADV'), (('more', 'ADJ'), ('more', 'ADV'))],\n",
       " [('more', 'ADV'), (('knowledgeable', 'VERB'), ('knowledgeable', 'ADJ'))],\n",
       " [('years', 'NOUN'), (('ago', 'ADP'), ('ago', 'ADV'))],\n",
       " [('Iowa', 'NOUN'), (('Cos.', 'VERB'), ('Cos.', 'NOUN'))],\n",
       " [('the', 'DET'), (('36-store', 'VERB'), ('36-store', 'ADJ'))],\n",
       " [('to', 'PRT'), (('free', 'ADJ'), ('free', 'VERB'))],\n",
       " [('while', 'ADP'), (('index-fund', 'ADJ'), ('index-fund', 'NOUN'))],\n",
       " [('about', 'ADP'), (('108', 'VERB'), ('108', 'NUM'))],\n",
       " [('the', 'DET'), (('purchasing', 'NOUN'), ('purchasing', 'VERB'))],\n",
       " [('reported', 'VERB'), (('better', 'ADV'), ('better', 'ADJ'))],\n",
       " [('better', 'ADJ'), (('export', 'VERB'), ('export', 'NOUN'))],\n",
       " [('.', '.'), (('NCNB', 'VERB'), ('NCNB', 'NOUN'))],\n",
       " [('Financial', 'NOUN'), (('Connections', 'VERB'), ('Connections', 'NOUN'))],\n",
       " [('young', 'ADJ'), (('adults', 'VERB'), ('adults', 'NOUN'))],\n",
       " [('Its', 'PRON'), (('cereal', 'VERB'), ('cereal', 'NOUN'))],\n",
       " [('higher', 'ADJ'), (('operating', 'NOUN'), ('operating', 'VERB'))],\n",
       " [('spent', 'VERB'), (('more', 'ADV'), ('more', 'ADJ'))],\n",
       " [('a', 'DET'), (('razor-thin', 'VERB'), ('razor-thin', 'ADJ'))],\n",
       " [('dividend', 'NOUN'), (('yield', 'VERB'), ('yield', 'NOUN'))],\n",
       " [('level', 'NOUN'), (('that', 'ADP'), ('that', 'DET'))],\n",
       " [('that', 'DET'), (('*T*-232', 'VERB'), ('*T*-232', 'X'))],\n",
       " [('and', 'CONJ'), (('unenticing', 'VERB'), ('unenticing', 'ADJ'))],\n",
       " [('Japanese', 'ADJ'), (('contribution', 'VERB'), ('contribution', 'NOUN'))],\n",
       " [('year', 'NOUN'), (('earlier', 'ADV'), ('earlier', 'ADJ'))],\n",
       " [('your', 'PRON'), (('support', 'VERB'), ('support', 'NOUN'))],\n",
       " [('institution', 'NOUN'), (('that', 'ADP'), ('that', 'DET'))],\n",
       " [('that', 'DET'), (('*T*-208', 'VERB'), ('*T*-208', 'X'))],\n",
       " [('bad', 'ADJ'), (('rap', 'VERB'), ('rap', 'NOUN'))],\n",
       " [('its', 'PRON'), (('bottom', 'NOUN'), ('bottom', 'ADJ'))],\n",
       " [('of', 'ADP'), (('index-options', 'VERB'), ('index-options', 'NOUN'))],\n",
       " [('the', 'DET'), (('underlying', 'ADJ'), ('underlying', 'VERB'))],\n",
       " [('to', 'PRT'), (('issue', 'NOUN'), ('issue', 'VERB'))],\n",
       " [('antitrust', 'ADJ'), (('staffs', 'VERB'), ('staffs', 'NOUN'))],\n",
       " [('*-87', 'X'), (('more', 'ADV'), ('more', 'ADJ'))],\n",
       " [('off', 'PRT'), (('drastically', 'VERB'), ('drastically', 'ADV'))],\n",
       " [('Their', 'PRON'), (('report', 'VERB'), ('report', 'NOUN'))],\n",
       " [('the', 'DET'), (('journal', 'VERB'), ('journal', 'NOUN'))],\n",
       " [('journal', 'NOUN'), (('Nature', 'VERB'), ('Nature', 'NOUN'))],\n",
       " [('serious', 'ADJ'), (('inadequacy', 'VERB'), ('inadequacy', 'NOUN'))],\n",
       " [('his', 'PRON'), (('vagrant', 'VERB'), ('vagrant', 'ADJ'))],\n",
       " [('reached', 'VERB'), (('*-120', 'VERB'), ('*-120', 'X'))],\n",
       " [('.', '.'), (('Ports', 'VERB'), ('Ports', 'NOUN'))],\n",
       " [('Great', 'NOUN'), (('Lakes', 'VERB'), ('Lakes', 'NOUN'))],\n",
       " [('Atlantic', 'NOUN'), (('Coast', 'VERB'), ('Coast', 'NOUN'))],\n",
       " [('at', 'ADP'), (('2.46', 'VERB'), ('2.46', 'NUM'))],\n",
       " [('with', 'ADP'), (('2.42', 'VERB'), ('2.42', 'NUM'))],\n",
       " [('another', 'DET'), (('drag-down', 'VERB'), ('drag-down', 'ADJ'))],\n",
       " [('fuming', 'VERB'), (('because', 'ADP'), ('because', 'ADV'))],\n",
       " [('an', 'DET'), (('ultimatum', 'VERB'), ('ultimatum', 'NOUN'))],\n",
       " [('*', 'X'), (('Either', 'VERB'), ('Either', 'CONJ'))],\n",
       " [('Either', 'CONJ'), (('sign', 'NOUN'), ('sign', 'VERB'))],\n",
       " [('or', 'CONJ'), (('risk', 'NOUN'), ('risk', 'VERB'))],\n",
       " [('A', 'DET'), (('player', 'VERB'), ('player', 'NOUN'))],\n",
       " [('is', 'VERB'), (('as', 'ADP'), ('as', 'ADV'))],\n",
       " [('his', 'PRON'), (('batting', 'VERB'), ('batting', 'NOUN'))],\n",
       " [('batting', 'NOUN'), (('average', 'ADJ'), ('average', 'NOUN'))],\n",
       " [('to', 'PRT'), (('last', 'ADJ'), ('last', 'VERB'))],\n",
       " [('.', '.'), (('Economists', 'VERB'), ('Economists', 'NOUN'))],\n",
       " [('consider', 'VERB'), (('that', 'ADP'), ('that', 'DET'))],\n",
       " [('that', 'ADP'), (('inflationary', 'VERB'), ('inflationary', 'ADJ'))],\n",
       " [('construction', 'NOUN'), (('outlays', 'VERB'), ('outlays', 'NOUN'))],\n",
       " [('while', 'ADP'), (('purchasing', 'NOUN'), ('purchasing', 'VERB'))],\n",
       " [('0', 'X'), (('manufacturing', 'VERB'), ('manufacturing', 'NOUN'))],\n",
       " [('the', 'DET'), (('unsettling', 'VERB'), ('unsettling', 'ADJ'))],\n",
       " [('``', '.'), (('Anything', 'VERB'), ('Anything', 'NOUN'))],\n",
       " [('Anything', 'NOUN'), ((\"'s\", 'PRT'), (\"'s\", 'VERB'))],\n",
       " [('how', 'ADV'), (('about', 'ADP'), ('about', 'PRT'))],\n",
       " [('of', 'ADP'), (('Northampton', 'VERB'), ('Northampton', 'NOUN'))],\n",
       " [('had', 'VERB'), (('as', 'ADP'), ('as', 'ADV'))],\n",
       " [('the', 'DET'), (('camera', 'VERB'), ('camera', 'NOUN'))],\n",
       " [('.', '.'), (('So', 'ADV'), ('So', 'ADP'))],\n",
       " [('appear', 'VERB'), (('unenthusiastic', 'VERB'), ('unenthusiastic', 'ADJ'))],\n",
       " [('the', 'DET'), (('twindam', 'VERB'), ('twindam', 'NOUN'))],\n",
       " [('with', 'ADP'), (('inadequate', 'VERB'), ('inadequate', 'ADJ'))],\n",
       " [('inadequate', 'ADJ'), (('protections', 'VERB'), ('protections', 'NOUN'))],\n",
       " [('U.S.', 'NOUN'),\n",
       "  (('high-technology', 'VERB'), ('high-technology', 'NOUN'))],\n",
       " [('or', 'CONJ'), (('marketing', 'NOUN'), ('marketing', 'VERB'))],\n",
       " [('products', 'NOUN'), (('there', 'DET'), ('there', 'ADV'))],\n",
       " [('$', '.'), (('36', 'VERB'), ('36', 'NUM'))],\n",
       " [('$', '.'), (('55.1', 'VERB'), ('55.1', 'NUM'))],\n",
       " [('*U*', 'X'), (('cash-and-stock', 'VERB'), ('cash-and-stock', 'ADJ'))],\n",
       " [('held', 'VERB'), (('Ravenswood', 'VERB'), ('Ravenswood', 'NOUN'))],\n",
       " [('Chicago', 'NOUN'), (('accountant', 'VERB'), ('accountant', 'NOUN'))],\n",
       " [('nearly', 'ADV'), (('tenfold', 'VERB'), ('tenfold', 'ADV'))],\n",
       " [(\"'s\", 'PRT'), (('launch', 'VERB'), ('launch', 'NOUN'))],\n",
       " [('compromise', 'NOUN'), (('sets', 'NOUN'), ('sets', 'VERB'))],\n",
       " [('$', '.'), (('3.61', 'VERB'), ('3.61', 'NUM'))],\n",
       " [('The', 'DET'), (('following', 'VERB'), ('following', 'NOUN'))],\n",
       " [('L.', 'NOUN'), (('Cole', 'VERB'), ('Cole', 'NOUN'))],\n",
       " [(',', '.'), (('Jackson', 'VERB'), ('Jackson', 'NOUN'))],\n",
       " [(';', '.'), (('Rita', 'VERB'), ('Rita', 'NOUN'))],\n",
       " [('Rita', 'NOUN'), (('Rae', 'VERB'), ('Rae', 'NOUN'))],\n",
       " [('Rae', 'NOUN'), (('Cross', 'VERB'), ('Cross', 'NOUN'))],\n",
       " [(',', '.'), (('Denver', 'VERB'), ('Denver', 'NOUN'))],\n",
       " [('Richard', 'NOUN'), (('Meinders', 'VERB'), ('Meinders', 'NOUN'))],\n",
       " [(',', '.'), (('five-day', 'VERB'), ('five-day', 'ADJ'))],\n",
       " [('and', 'CONJ'), (('eight-month', 'VERB'), ('eight-month', 'ADJ'))],\n",
       " [(',', '.'), (('Baton', 'VERB'), ('Baton', 'NOUN'))],\n",
       " [('Baton', 'NOUN'), (('Rouge', 'VERB'), ('Rouge', 'NOUN'))],\n",
       " [(',', '.'), (('La.', 'VERB'), ('La.', 'NOUN'))],\n",
       " [(';', '.'), (('Karl', 'VERB'), ('Karl', 'NOUN'))],\n",
       " [('Karl', 'NOUN'), (('Grant', 'VERB'), ('Grant', 'NOUN'))],\n",
       " [('Grant', 'NOUN'), (('Hale', 'VERB'), ('Hale', 'NOUN'))],\n",
       " [(',', '.'), (('Midvale', 'VERB'), ('Midvale', 'NOUN'))],\n",
       " [(',', '.'), (('Utah', 'VERB'), ('Utah', 'NOUN'))],\n",
       " [(';', '.'), (('Clinton', 'VERB'), ('Clinton', 'NOUN'))],\n",
       " [('P.', 'NOUN'), (('Hayne', 'VERB'), ('Hayne', 'NOUN'))],\n",
       " [('and', 'CONJ'), (('one-week', 'VERB'), ('one-week', 'ADJ'))],\n",
       " [(',', '.'), (('Coconut', 'VERB'), ('Coconut', 'NOUN'))],\n",
       " [('$', '.'), (('250,000', 'VERB'), ('250,000', 'NUM'))],\n",
       " [('B.', 'NOUN'), (('Merrick', 'VERB'), ('Merrick', 'NOUN'))],\n",
       " [(',', '.'), (('Aurora', 'VERB'), ('Aurora', 'NOUN'))],\n",
       " [(',', '.'), (('Baton', 'VERB'), ('Baton', 'NOUN'))],\n",
       " [('Baton', 'NOUN'), (('Rouge', 'VERB'), ('Rouge', 'NOUN'))],\n",
       " [('K.', 'NOUN'), (('Pace', 'VERB'), ('Pace', 'NOUN'))],\n",
       " [('and', 'CONJ'), (('90-day', 'VERB'), ('90-day', 'ADJ'))],\n",
       " [(';', '.'), (('Brian', 'VERB'), ('Brian', 'NOUN'))],\n",
       " [('D.', 'NOUN'), (('Pitcher', 'VERB'), ('Pitcher', 'NOUN'))],\n",
       " [('A.', 'NOUN'), (('Russo', 'VERB'), ('Russo', 'NOUN'))],\n",
       " [(',', '.'), (('Bridgeville', 'VERB'), ('Bridgeville', 'NOUN'))],\n",
       " [('and', 'CONJ'), (('15-day', 'VERB'), ('15-day', 'ADJ'))],\n",
       " [(';', '.'), (('Orville', 'VERB'), ('Orville', 'NOUN'))],\n",
       " [('Orville', 'NOUN'), (('Leroy', 'VERB'), ('Leroy', 'NOUN'))],\n",
       " [('Leroy', 'NOUN'), (('Sandberg', 'VERB'), ('Sandberg', 'NOUN'))],\n",
       " [(',', '.'), (('Aurora', 'VERB'), ('Aurora', 'NOUN'))],\n",
       " [('T.', 'NOUN'), (('Marchese', 'VERB'), ('Marchese', 'NOUN'))],\n",
       " [(';', '.'), (('Eric', 'VERB'), ('Eric', 'NOUN'))],\n",
       " [('G.', 'NOUN'), (('Monchecourt', 'VERB'), ('Monchecourt', 'NOUN'))],\n",
       " [('Robert', 'NOUN'), (('Gerhard', 'VERB'), ('Gerhard', 'NOUN'))],\n",
       " [(',', '.'), (('Carson', 'VERB'), ('Carson', 'NOUN'))],\n",
       " [('--', '.'), (('Obligations', 'VERB'), ('Obligations', 'NOUN'))],\n",
       " [('financial', 'ADJ'), (('instrument', 'VERB'), ('instrument', 'NOUN'))],\n",
       " [('the', 'DET'), (('agreed-upon', 'VERB'), ('agreed-upon', 'ADJ'))],\n",
       " [('.', '.'), (('DOT', 'VERB'), ('DOT', 'NOUN'))],\n",
       " [('``', '.'), (('Designated', 'VERB'), ('Designated', 'NOUN'))],\n",
       " [('Designated', 'NOUN'), (('Order', 'VERB'), ('Order', 'NOUN'))],\n",
       " [('Order', 'NOUN'), (('Turnaround', 'VERB'), ('Turnaround', 'NOUN'))],\n",
       " [('to', 'PRT'), (('offer', 'NOUN'), ('offer', 'VERB'))],\n",
       " [(',', '.'), (('high-speed', 'VERB'), ('high-speed', 'ADJ'))],\n",
       " [('diaper', 'NOUN'), (('covers', 'VERB'), ('covers', 'NOUN'))],\n",
       " [('with', 'ADP'), (('Velcro', 'VERB'), ('Velcro', 'NOUN'))],\n",
       " [('fasteners', 'NOUN'), (('that', 'ADP'), ('that', 'DET'))],\n",
       " [('safety', 'NOUN'), (('pins', 'VERB'), ('pins', 'NOUN'))],\n",
       " [('Or', 'CONJ'), (('so', 'ADV'), ('so', 'ADP'))],\n",
       " [('the', 'DET'), (('slogan', 'VERB'), ('slogan', 'NOUN'))],\n",
       " [('totaled', 'VERB'), (('154.2', 'VERB'), ('154.2', 'NUM'))],\n",
       " [('of', 'ADP'), (('hurdles', 'VERB'), ('hurdles', 'NOUN'))],\n",
       " [('morphogenetic', 'ADJ'), (('protein', 'VERB'), ('protein', 'NOUN'))],\n",
       " [('.', '.'), (('Bears', 'VERB'), ('Bears', 'NOUN'))],\n",
       " [('the', 'DET'), (('shaky', 'VERB'), ('shaky', 'ADJ'))],\n",
       " [('About', 'ADP'), (('160', 'VERB'), ('160', 'NUM'))],\n",
       " [('factory', 'NOUN'), (('that', 'ADP'), ('that', 'DET'))],\n",
       " [('.', '.'), (('INTER-TEL', 'VERB'), ('INTER-TEL', 'NOUN'))],\n",
       " [('was', 'VERB'), (('such', 'ADJ'), ('such', 'DET'))],\n",
       " [('.', '.'), (('Supportive', 'VERB'), ('Supportive', 'ADJ'))],\n",
       " [('radio', 'NOUN'), (('talk', 'VERB'), ('talk', 'NOUN'))],\n",
       " [('talk', 'NOUN'), (('show', 'VERB'), ('show', 'NOUN'))],\n",
       " [('months', 'NOUN'), (('ago', 'ADP'), ('ago', 'ADV'))],\n",
       " [('come', 'VERB'), (('up', 'ADV'), ('up', 'PRT'))],\n",
       " [('plants', 'NOUN'), (('as', 'ADP'), ('as', 'ADV'))],\n",
       " [('long', 'ADJ'), (('ago', 'ADP'), ('ago', 'ADV'))],\n",
       " [('their', 'PRON'), (('winter', 'VERB'), ('winter', 'NOUN'))],\n",
       " [('by', 'ADP'), (('Avrett', 'VERB'), ('Avrett', 'NOUN'))],\n",
       " [('&', 'CONJ'), (('Ginsberg', 'VERB'), ('Ginsberg', 'NOUN'))],\n",
       " [(\"'s\", 'PRT'), (('consumer-driven', 'VERB'), ('consumer-driven', 'ADJ'))],\n",
       " [('free', 'ADJ'), (('pick-up', 'VERB'), ('pick-up', 'ADJ'))],\n",
       " [('and', 'CONJ'), (('drop-off', 'VERB'), ('drop-off', 'ADJ'))],\n",
       " [('.', '.'), (('Net', 'NOUN'), ('Net', 'ADJ'))],\n",
       " [('to', 'PRT'), (('7.63', 'VERB'), ('7.63', 'NUM'))],\n",
       " [('from', 'ADP'), (('5.82', 'VERB'), ('5.82', 'NUM'))],\n",
       " [('--', '.'), (('including', 'VERB'), ('including', 'ADP'))],\n",
       " [(',', '.'), (('Greece', 'VERB'), ('Greece', 'NOUN'))],\n",
       " [('pose', 'VERB'), (('less-serious', 'VERB'), ('less-serious', 'ADJ'))],\n",
       " [('Jerry', 'NOUN'), (('Chapman', 'VERB'), ('Chapman', 'NOUN'))],\n",
       " [('of', 'ADP'), (('WayMar', 'VERB'), ('WayMar', 'NOUN'))],\n",
       " [('.', '.'), (('Such', 'ADJ'), ('Such', 'DET'))],\n",
       " [('an', 'DET'), (('insidious', 'VERB'), ('insidious', 'ADJ'))],\n",
       " [(',', '.'), (('stereotyped', 'VERB'), ('stereotyped', 'ADJ'))],\n",
       " [('stereotyped', 'ADJ'), (('perspective', 'VERB'), ('perspective', 'NOUN'))],\n",
       " [('of', 'ADP'), (('flashy', 'VERB'), ('flashy', 'ADJ'))],\n",
       " [('tried', 'VERB'), (('packaging', 'NOUN'), ('packaging', 'VERB'))],\n",
       " [('packaging', 'VERB'), (('before', 'ADP'), ('before', 'ADV'))],\n",
       " [('sports', 'NOUN'), (('coverage', 'VERB'), ('coverage', 'NOUN'))],\n",
       " [('and', 'CONJ'), (('arts', 'VERB'), ('arts', 'NOUN'))],\n",
       " [('arts', 'NOUN'), (('criticism', 'VERB'), ('criticism', 'NOUN'))],\n",
       " [('Ed', 'NOUN'), (('Macheski', 'VERB'), ('Macheski', 'NOUN'))],\n",
       " [('a', 'DET'), (('Wilton', 'VERB'), ('Wilton', 'NOUN'))],\n",
       " [('who', 'PRON'), (('*T*-120', 'VERB'), ('*T*-120', 'X'))],\n",
       " [('green', 'ADJ'), (('light', 'ADJ'), ('light', 'NOUN'))],\n",
       " [('buy', 'VERB'), (('more', 'ADV'), ('more', 'ADJ'))],\n",
       " [('$', '.'), (('963', 'VERB'), ('963', 'NUM'))],\n",
       " [('the', 'DET'), (('most', 'ADJ'), ('most', 'ADV'))],\n",
       " [('most', 'ADV'), (('devastating', 'VERB'), ('devastating', 'ADJ'))],\n",
       " [('new', 'ADJ'), (('high', 'ADJ'), ('high', 'NOUN'))],\n",
       " [('to', 'PRT'), (('institute', 'NOUN'), ('institute', 'VERB'))],\n",
       " [('market', 'NOUN'), (('slides', 'VERB'), ('slides', 'NOUN'))],\n",
       " [('are', 'VERB'), (('forcing', 'ADJ'), ('forcing', 'VERB'))],\n",
       " [('overseas', 'ADJ'), (('sites', 'VERB'), ('sites', 'NOUN'))],\n",
       " [('for', 'ADP'), (('labor-intensive', 'VERB'), ('labor-intensive', 'ADJ'))],\n",
       " [('%', 'NOUN'), (('upturn', 'VERB'), ('upturn', 'NOUN'))],\n",
       " [('more', 'ADJ'), (('couples', 'VERB'), ('couples', 'NOUN'))],\n",
       " [('exchanging', 'VERB'), (('rings', 'VERB'), ('rings', 'NOUN'))],\n",
       " [('$', '.'), (('21.9', 'VERB'), ('21.9', 'NUM'))],\n",
       " [('raised', 'VERB'), (('*-111', 'VERB'), ('*-111', 'X'))],\n",
       " [('market', 'NOUN'), (('crises', 'VERB'), ('crises', 'NOUN'))],\n",
       " [('get', 'VERB'), (('out', 'PRT'), ('out', 'ADP'))],\n",
       " [('reaffirmed', 'VERB'), (('support', 'VERB'), ('support', 'NOUN'))],\n",
       " [(',', '.'), (('Ortega', 'VERB'), ('Ortega', 'NOUN'))],\n",
       " [(\"'s\", 'PRT'), (('estimate', 'VERB'), ('estimate', 'NOUN'))],\n",
       " [('``', '.'), (('Once', 'ADV'), ('Once', 'ADP'))],\n",
       " [('serious', 'ADJ'), (('evaluation', 'VERB'), ('evaluation', 'NOUN'))],\n",
       " [('of', 'ADP'), (('Child', 'VERB'), ('Child', 'NOUN'))],\n",
       " [('a', 'DET'), (('sheaf', 'VERB'), ('sheaf', 'NOUN'))],\n",
       " [('can', 'VERB'), (('trust', 'NOUN'), ('trust', 'VERB'))],\n",
       " [('``', '.'), (('Funny', 'ADJ'), ('Funny', 'NOUN'))],\n",
       " [('-LRB-', '.'), (('Soho', 'VERB'), ('Soho', 'NOUN'))],\n",
       " [('anything', 'NOUN'), (('but', 'CONJ'), ('but', 'ADV'))],\n",
       " [('.', '.'), (('Courts', 'VERB'), ('Courts', 'NOUN'))],\n",
       " [('DES', 'NOUN'), (('pills', 'VERB'), ('pills', 'NOUN'))],\n",
       " [('test', 'NOUN'), (('so', 'ADV'), ('so', 'ADP'))],\n",
       " [('the', 'DET'), (('proportion', 'VERB'), ('proportion', 'NOUN'))],\n",
       " [('fall', 'VERB'), (('further', 'ADV'), ('further', 'ADJ'))],\n",
       " [(\"'s\", 'PRT'), (('close', 'VERB'), ('close', 'NOUN'))],\n",
       " [('.', '.'), (('Corporate', 'NOUN'), ('Corporate', 'ADJ'))],\n",
       " [('transformed', 'VERB'), (('*-75', 'VERB'), ('*-75', 'X'))],\n",
       " [('a', 'DET'), (('nameless', 'VERB'), ('nameless', 'ADJ'))],\n",
       " [('a', 'DET'), (('stock-index', 'ADJ'), ('stock-index', 'NOUN'))],\n",
       " [('bad', 'ADJ'), (('movies', 'VERB'), ('movies', 'NOUN'))],\n",
       " [('Gregory', 'NOUN'), (('Peck', 'VERB'), ('Peck', 'NOUN'))],\n",
       " [('a', 'DET'), (('marvelously', 'VERB'), ('marvelously', 'ADV'))],\n",
       " [('marvelously', 'ADV'), (('loose', 'VERB'), ('loose', 'ADJ'))],\n",
       " [('energetic', 'ADJ'), (('portrayal', 'VERB'), ('portrayal', 'NOUN'))],\n",
       " [('Gulf', 'NOUN'), (('restructure', 'VERB'), ('restructure', 'NOUN'))],\n",
       " [('transaction', 'NOUN'), (('that', 'ADP'), ('that', 'DET'))],\n",
       " [('that', 'DET'), (('*T*-179', 'VERB'), ('*T*-179', 'X'))],\n",
       " [('their', 'PRON'), (('biannual', 'VERB'), ('biannual', 'ADJ'))],\n",
       " [('biannual', 'ADJ'), (('powwow', 'VERB'), ('powwow', 'NOUN'))],\n",
       " [('manufacturing', 'VERB'), (('titans', 'VERB'), ('titans', 'NOUN'))],\n",
       " [('typically', 'ADV'), (('jet', 'NOUN'), ('jet', 'VERB'))],\n",
       " [('the', 'DET'), (('sunny', 'VERB'), ('sunny', 'ADJ'))],\n",
       " [('sunny', 'ADJ'), (('confines', 'VERB'), ('confines', 'NOUN'))],\n",
       " [('and', 'CONJ'), (('Hot', 'ADJ'), ('Hot', 'NOUN'))],\n",
       " [('.', '.'), (('Grain', 'VERB'), ('Grain', 'NOUN'))],\n",
       " [('the', 'DET'), (('1920s', 'NOUN'), ('1920s', 'NUM'))],\n",
       " [('and', 'CONJ'), ((\"'30s\", 'VERB'), (\"'30s\", 'NUM'))],\n",
       " [('concrete', 'ADJ'), (('walls', 'VERB'), ('walls', 'NOUN'))],\n",
       " [('shape', 'NOUN'), (('that', 'ADP'), ('that', 'DET'))],\n",
       " [('contain', 'VERB'), (('semicircular', 'VERB'), ('semicircular', 'ADJ'))],\n",
       " [('semicircular', 'ADJ'), (('cells', 'VERB'), ('cells', 'NOUN'))],\n",
       " [('the', 'DET'), (('middle', 'ADJ'), ('middle', 'NOUN'))],\n",
       " [('who', 'PRON'), (('*T*-196', 'VERB'), ('*T*-196', 'X'))],\n",
       " [('company', 'NOUN'), (('more', 'ADV'), ('more', 'ADJ'))],\n",
       " [('new', 'ADJ'), (('high', 'ADJ'), ('high', 'NOUN'))],\n",
       " [('Cabernet', 'NOUN'), (('Sauvignon', 'VERB'), ('Sauvignon', 'NOUN'))],\n",
       " [(',', '.'), (('highway', 'VERB'), ('highway', 'NOUN'))],\n",
       " [(',', '.'), (('as', 'ADP'), ('as', 'ADV'))],\n",
       " [('as', 'ADV'), (('long', 'ADJ'), ('long', 'ADV'))],\n",
       " [('a', 'DET'), (('crash', 'NOUN'), ('crash', 'ADJ'))],\n",
       " [('the', 'DET'), (('sidewalk', 'VERB'), ('sidewalk', 'NOUN'))],\n",
       " [('in', 'ADP'), (('INS', 'VERB'), ('INS', 'NOUN'))],\n",
       " [('v.', 'CONJ'), (('Chadha', 'VERB'), ('Chadha', 'NOUN'))],\n",
       " [('legislative', 'ADJ'), (('vetoes', 'VERB'), ('vetoes', 'NOUN'))],\n",
       " [('at', 'ADP'), (('879', 'VERB'), ('879', 'NUM'))],\n",
       " [('$', '.'), (('13.90', 'VERB'), ('13.90', 'NUM'))],\n",
       " [(',', '.'), (('more', 'ADV'), ('more', 'ADJ'))],\n",
       " [('will', 'VERB'), (('record', 'NOUN'), ('record', 'VERB'))],\n",
       " [('*U*', 'X'), (('reserve', 'VERB'), ('reserve', 'NOUN'))],\n",
       " [('*U*', 'X'), (('charge', 'VERB'), ('charge', 'NOUN'))],\n",
       " [('costs', 'NOUN'), (('that', 'ADP'), ('that', 'DET'))],\n",
       " [('third-quarter', 'NOUN'), (('net', 'NOUN'), ('net', 'ADJ'))],\n",
       " [('$', '.'), (('35.2', 'VERB'), ('35.2', 'NUM'))],\n",
       " [('in', 'ADP'), (('Westport', 'VERB'), ('Westport', 'NOUN'))],\n",
       " [('of', 'ADP'), (('punitive', 'VERB'), ('punitive', 'ADJ'))],\n",
       " [('to', 'PRT'), (('license', 'NOUN'), ('license', 'VERB'))],\n",
       " [(',', '.'), (('Pennview', 'VERB'), ('Pennview', 'NOUN'))],\n",
       " [('leapt', 'VERB'), (('more', 'ADV'), ('more', 'ADJ'))],\n",
       " [('``', '.'), (('Professional', 'NOUN'), ('Professional', 'ADJ'))],\n",
       " [('get', 'VERB'), (('enough', 'ADV'), ('enough', 'ADJ'))],\n",
       " [('to', 'PRT'), (('report', 'NOUN'), ('report', 'VERB'))],\n",
       " [('Donald', 'NOUN'), (('Pardus', 'VERB'), ('Pardus', 'NOUN'))],\n",
       " [('one', 'NUM'), (('right', 'NOUN'), ('right', 'ADJ'))],\n",
       " [('each', 'DET'), (('105', 'VERB'), ('105', 'NUM'))]]"
      ]
     },
     "execution_count": 26,
     "metadata": {},
     "output_type": "execute_result"
    }
   ],
   "source": [
    "#Get the words in the test set which are incorrectly classified\n",
    "incorrect_tagged_cases = [[test_run_base[i-1],j] for i, j in enumerate(zip(tagged_seq, test_run_base)) if j[0]!=j[1]]\n",
    "incorrect_tagged_cases"
   ]
  },
  {
   "cell_type": "markdown",
   "metadata": {},
   "source": [
    "Most of the words which are not present in training set are simply assigned the first pos tag in the training pos tagset\n",
    "\n",
    "Let us do the analysis on the test file which we read before"
   ]
  },
  {
   "cell_type": "code",
   "execution_count": 27,
   "metadata": {},
   "outputs": [
    {
     "data": {
      "text/plain": [
       "[('Android', 'VERB'),\n",
       " ('is', 'VERB'),\n",
       " ('a', 'DET'),\n",
       " ('mobile', 'ADJ'),\n",
       " ('operating', 'NOUN'),\n",
       " ('system', 'NOUN'),\n",
       " ('developed', 'VERB'),\n",
       " ('by', 'ADP'),\n",
       " ('Google', 'VERB'),\n",
       " ('.', '.'),\n",
       " ('Android', 'VERB'),\n",
       " ('has', 'VERB'),\n",
       " ('been', 'VERB'),\n",
       " ('the', 'DET'),\n",
       " ('best-selling', 'ADJ'),\n",
       " ('OS', 'VERB'),\n",
       " ('worldwide', 'VERB'),\n",
       " ('on', 'ADP'),\n",
       " ('smartphones', 'VERB'),\n",
       " ('since', 'ADP'),\n",
       " ('2011', 'VERB'),\n",
       " ('and', 'CONJ'),\n",
       " ('on', 'ADP'),\n",
       " ('tablets', 'NOUN'),\n",
       " ('since', 'ADP'),\n",
       " ('2013', 'VERB'),\n",
       " ('.', '.'),\n",
       " ('Google', 'VERB'),\n",
       " ('and', 'CONJ'),\n",
       " ('Twitter', 'VERB'),\n",
       " ('made', 'VERB'),\n",
       " ('a', 'DET'),\n",
       " ('deal', 'NOUN'),\n",
       " ('in', 'ADP'),\n",
       " ('2015', 'VERB'),\n",
       " ('that', 'ADP'),\n",
       " ('gave', 'VERB'),\n",
       " ('Google', 'VERB'),\n",
       " ('access', 'NOUN'),\n",
       " ('to', 'PRT'),\n",
       " ('Twitter', 'VERB'),\n",
       " (\"'s\", 'PRT'),\n",
       " ('firehose', 'VERB'),\n",
       " ('.', '.'),\n",
       " ('Twitter', 'VERB'),\n",
       " ('is', 'VERB'),\n",
       " ('an', 'DET'),\n",
       " ('online', 'VERB'),\n",
       " ('news', 'NOUN'),\n",
       " ('and', 'CONJ'),\n",
       " ('social', 'ADJ'),\n",
       " ('networking', 'NOUN'),\n",
       " ('service', 'NOUN'),\n",
       " ('on', 'ADP'),\n",
       " ('which', 'DET'),\n",
       " ('users', 'NOUN'),\n",
       " ('post', 'NOUN'),\n",
       " ('and', 'CONJ'),\n",
       " ('interact', 'VERB'),\n",
       " ('with', 'ADP'),\n",
       " ('messages', 'VERB'),\n",
       " ('known', 'VERB'),\n",
       " ('as', 'ADP'),\n",
       " ('tweets', 'VERB'),\n",
       " ('.', '.'),\n",
       " ('Before', 'ADP'),\n",
       " ('entering', 'VERB'),\n",
       " ('politics', 'NOUN'),\n",
       " (',', '.'),\n",
       " ('Donald', 'NOUN'),\n",
       " ('Trump', 'NOUN'),\n",
       " ('was', 'VERB'),\n",
       " ('a', 'DET'),\n",
       " ('domineering', 'VERB'),\n",
       " ('businessman', 'NOUN'),\n",
       " ('and', 'CONJ'),\n",
       " ('a', 'DET'),\n",
       " ('television', 'NOUN'),\n",
       " ('personality', 'VERB'),\n",
       " ('.', '.'),\n",
       " ('The', 'DET'),\n",
       " ('2018', 'VERB'),\n",
       " ('FIFA', 'VERB'),\n",
       " ('World', 'NOUN'),\n",
       " ('Cup', 'VERB'),\n",
       " ('is', 'VERB'),\n",
       " ('the', 'DET'),\n",
       " ('21st', 'VERB'),\n",
       " ('FIFA', 'VERB'),\n",
       " ('World', 'NOUN'),\n",
       " ('Cup', 'VERB'),\n",
       " (',', '.'),\n",
       " ('an', 'DET'),\n",
       " ('international', 'ADJ'),\n",
       " ('football', 'NOUN'),\n",
       " ('tournament', 'VERB'),\n",
       " ('contested', 'VERB'),\n",
       " ('once', 'ADV'),\n",
       " ('every', 'DET'),\n",
       " ('four', 'NUM'),\n",
       " ('years', 'NOUN'),\n",
       " ('.', '.'),\n",
       " ('This', 'DET'),\n",
       " ('is', 'VERB'),\n",
       " ('the', 'DET'),\n",
       " ('first', 'ADJ'),\n",
       " ('World', 'NOUN'),\n",
       " ('Cup', 'VERB'),\n",
       " ('to', 'PRT'),\n",
       " ('be', 'VERB'),\n",
       " ('held', 'VERB'),\n",
       " ('in', 'ADP'),\n",
       " ('Eastern', 'NOUN'),\n",
       " ('Europe', 'NOUN'),\n",
       " ('and', 'CONJ'),\n",
       " ('the', 'DET'),\n",
       " ('11th', 'ADJ'),\n",
       " ('time', 'NOUN'),\n",
       " ('that', 'ADP'),\n",
       " ('it', 'PRON'),\n",
       " ('has', 'VERB'),\n",
       " ('been', 'VERB'),\n",
       " ('held', 'VERB'),\n",
       " ('in', 'ADP'),\n",
       " ('Europe', 'NOUN'),\n",
       " ('.', '.'),\n",
       " ('Show', 'NOUN'),\n",
       " ('me', 'PRON'),\n",
       " ('the', 'DET'),\n",
       " ('cheapest', 'ADJ'),\n",
       " ('round', 'NOUN'),\n",
       " ('trips', 'VERB'),\n",
       " ('from', 'ADP'),\n",
       " ('Dallas', 'NOUN'),\n",
       " ('to', 'PRT'),\n",
       " ('Atlanta', 'NOUN'),\n",
       " ('I', 'PRON'),\n",
       " ('would', 'VERB'),\n",
       " ('like', 'ADP'),\n",
       " ('to', 'PRT'),\n",
       " ('see', 'VERB'),\n",
       " ('flights', 'NOUN'),\n",
       " ('from', 'ADP'),\n",
       " ('Denver', 'VERB'),\n",
       " ('to', 'PRT'),\n",
       " ('Philadelphia', 'NOUN'),\n",
       " ('.', '.'),\n",
       " ('Show', 'NOUN'),\n",
       " ('me', 'PRON'),\n",
       " ('the', 'DET'),\n",
       " ('price', 'NOUN'),\n",
       " ('of', 'ADP'),\n",
       " ('the', 'DET'),\n",
       " ('flights', 'NOUN'),\n",
       " ('leaving', 'VERB'),\n",
       " ('Atlanta', 'NOUN'),\n",
       " ('at', 'ADP'),\n",
       " ('about', 'ADP'),\n",
       " ('3', 'NUM'),\n",
       " ('in', 'ADP'),\n",
       " ('the', 'DET'),\n",
       " ('afternoon', 'NOUN'),\n",
       " ('and', 'CONJ'),\n",
       " ('arriving', 'VERB'),\n",
       " ('in', 'ADP'),\n",
       " ('San', 'NOUN'),\n",
       " ('Francisco', 'NOUN'),\n",
       " ('.', '.'),\n",
       " ('NASA', 'VERB'),\n",
       " ('invited', 'VERB'),\n",
       " ('social', 'ADJ'),\n",
       " ('media', 'NOUN'),\n",
       " ('users', 'NOUN'),\n",
       " ('to', 'PRT'),\n",
       " ('experience', 'NOUN'),\n",
       " ('the', 'DET'),\n",
       " ('launch', 'NOUN'),\n",
       " ('of', 'ADP'),\n",
       " ('ICESAT-2', 'VERB'),\n",
       " ('Satellite', 'VERB'),\n",
       " ('.', '.')]"
      ]
     },
     "execution_count": 27,
     "metadata": {},
     "output_type": "execute_result"
    }
   ],
   "source": [
    "#Get the predictions on the test sentences\n",
    "sample_pred_list =[]\n",
    "for line in test_lines:\n",
    "    sample_pred_list=sample_pred_list+list(Viterbi(word_tokenize(line)))\n",
    "sample_pred_list"
   ]
  },
  {
   "cell_type": "markdown",
   "metadata": {},
   "source": [
    "For words like 'Android','Google' the first tag in the training pos tagset is given. Let us see if these words exist in the training corpus "
   ]
  },
  {
   "cell_type": "code",
   "execution_count": 28,
   "metadata": {},
   "outputs": [],
   "source": [
    "#Get the tokens in the test file\n",
    "sample_words=[tokens for line in test_lines for tokens in word_tokenize(line)]"
   ]
  },
  {
   "cell_type": "code",
   "execution_count": 29,
   "metadata": {},
   "outputs": [
    {
     "data": {
      "text/plain": [
       "['domineering',\n",
       " '2011',\n",
       " 'Google',\n",
       " 'OS',\n",
       " '21st',\n",
       " 'ICESAT-2',\n",
       " 'tweets',\n",
       " 'Satellite',\n",
       " 'personality',\n",
       " 'interact',\n",
       " 'messages',\n",
       " '2013',\n",
       " 'invited',\n",
       " 'online',\n",
       " 'FIFA',\n",
       " 'Cup',\n",
       " 'trips',\n",
       " 'arriving',\n",
       " 'Denver',\n",
       " 'Twitter',\n",
       " 'tournament',\n",
       " '2015',\n",
       " 'contested',\n",
       " '2018',\n",
       " 'Android',\n",
       " 'NASA',\n",
       " 'worldwide',\n",
       " 'smartphones',\n",
       " 'firehose']"
      ]
     },
     "execution_count": 29,
     "metadata": {},
     "output_type": "execute_result"
    }
   ],
   "source": [
    "#Get the list of words which are present in test lines but not in the training corpus\n",
    "words_not_in_corpus = list(set(sample_words) - set(tokens))\n",
    "words_not_in_corpus"
   ]
  },
  {
   "cell_type": "markdown",
   "metadata": {},
   "source": [
    "Clearly the words like 'Google','Android','Fifa' are not present in the training set and they are all tagged default tags. "
   ]
  },
  {
   "cell_type": "code",
   "execution_count": 30,
   "metadata": {},
   "outputs": [
    {
     "data": {
      "text/plain": [
       "[('Android', 'VERB'),\n",
       " ('Google', 'VERB'),\n",
       " ('Android', 'VERB'),\n",
       " ('OS', 'VERB'),\n",
       " ('worldwide', 'VERB'),\n",
       " ('smartphones', 'VERB'),\n",
       " ('2011', 'VERB'),\n",
       " ('2013', 'VERB'),\n",
       " ('Google', 'VERB'),\n",
       " ('Twitter', 'VERB'),\n",
       " ('2015', 'VERB'),\n",
       " ('Google', 'VERB'),\n",
       " ('Twitter', 'VERB'),\n",
       " ('firehose', 'VERB'),\n",
       " ('Twitter', 'VERB'),\n",
       " ('online', 'VERB'),\n",
       " ('interact', 'VERB'),\n",
       " ('messages', 'VERB'),\n",
       " ('tweets', 'VERB'),\n",
       " ('domineering', 'VERB'),\n",
       " ('personality', 'VERB'),\n",
       " ('2018', 'VERB'),\n",
       " ('FIFA', 'VERB'),\n",
       " ('Cup', 'VERB'),\n",
       " ('21st', 'VERB'),\n",
       " ('FIFA', 'VERB'),\n",
       " ('Cup', 'VERB'),\n",
       " ('tournament', 'VERB'),\n",
       " ('contested', 'VERB'),\n",
       " ('Cup', 'VERB'),\n",
       " ('trips', 'VERB'),\n",
       " ('Denver', 'VERB'),\n",
       " ('arriving', 'VERB'),\n",
       " ('NASA', 'VERB'),\n",
       " ('invited', 'VERB'),\n",
       " ('ICESAT-2', 'VERB'),\n",
       " ('Satellite', 'VERB')]"
      ]
     },
     "execution_count": 30,
     "metadata": {},
     "output_type": "execute_result"
    }
   ],
   "source": [
    "#Get the tags predicted for unknown words\n",
    "[tup for tup in sample_pred_list for word in words_not_in_corpus if tup[0]==word ]"
   ]
  },
  {
   "cell_type": "code",
   "execution_count": 31,
   "metadata": {},
   "outputs": [
    {
     "data": {
      "text/plain": [
       "Counter({'.': 11090,\n",
       "         'ADJ': 6080,\n",
       "         'ADP': 9397,\n",
       "         'ADV': 3007,\n",
       "         'CONJ': 2143,\n",
       "         'DET': 8300,\n",
       "         'NOUN': 27408,\n",
       "         'NUM': 3366,\n",
       "         'PRON': 2610,\n",
       "         'PRT': 3073,\n",
       "         'VERB': 12923,\n",
       "         'X': 6281})"
      ]
     },
     "execution_count": 31,
     "metadata": {},
     "output_type": "execute_result"
    }
   ],
   "source": [
    "#Let us see the count of all tags in the training set\n",
    "from collections import Counter\n",
    "tag_counts = Counter(pair[1] for pair in train_tagged_words)\n",
    "tag_counts"
   ]
  },
  {
   "cell_type": "code",
   "execution_count": 32,
   "metadata": {},
   "outputs": [
    {
     "data": {
      "text/plain": [
       "[('NOUN', 27408), ('VERB', 12923), ('.', 11090), ('ADP', 9397), ('DET', 8300)]"
      ]
     },
     "execution_count": 32,
     "metadata": {},
     "output_type": "execute_result"
    }
   ],
   "source": [
    "# see most common tags can in the training corpus\n",
    "tag_counts.most_common(5)"
   ]
  },
  {
   "cell_type": "code",
   "execution_count": 33,
   "metadata": {},
   "outputs": [
    {
     "data": {
      "text/plain": [
       "Counter({'ADJ': 34,\n",
       "         'ADP': 27,\n",
       "         'ADV': 23,\n",
       "         'CONJ': 1,\n",
       "         'DET': 3,\n",
       "         'NOUN': 35,\n",
       "         'PRT': 5,\n",
       "         'VERB': 309})"
      ]
     },
     "execution_count": 33,
     "metadata": {},
     "output_type": "execute_result"
    }
   ],
   "source": [
    "#Lets see count of incorrectly classfied words for each tag\n",
    "wrong_tag_counts = Counter(pair[1][0][1] for pair in incorrect_tagged_cases)\n",
    "wrong_tag_counts"
   ]
  },
  {
   "cell_type": "code",
   "execution_count": 34,
   "metadata": {},
   "outputs": [
    {
     "name": "stdout",
     "output_type": "stream",
     "text": [
      "0.20807861951559237\n"
     ]
    },
    {
     "data": {
      "text/plain": [
       "[('showed', 'VERB'),\n",
       " ('expected', 'VERB'),\n",
       " ('delivered', 'VERB'),\n",
       " ('led', 'VERB'),\n",
       " ('led', 'VERB'),\n",
       " ('indicated', 'VERB'),\n",
       " ('resigned', 'VERB'),\n",
       " ('orchestrated', 'VERB'),\n",
       " ('granted', 'VERB'),\n",
       " ('expected', 'VERB'),\n",
       " ('issued', 'VERB'),\n",
       " ('gored', 'VERB'),\n",
       " ('scheduled', 'VERB'),\n",
       " ('chopped', 'VERB'),\n",
       " ('polled', 'VERB'),\n",
       " ('expanded', 'VERB'),\n",
       " ('prepared', 'VERB'),\n",
       " ('designed', 'VERB'),\n",
       " ('colored', 'VERB'),\n",
       " ('worked', 'VERB')]"
      ]
     },
     "execution_count": 34,
     "metadata": {},
     "output_type": "execute_result"
    }
   ],
   "source": [
    "# Let us see the percentage of verbs which are classifed as 'verb which end with 'ed'\n",
    "verbs = [pair for pair in train_tagged_words if pair[1]=='VERB']\n",
    "ed_verbs = [pair for pair in verbs if pair[0].endswith('ed')]\n",
    "print(len(ed_verbs) / len(verbs))\n",
    "ed_verbs[:20]"
   ]
  },
  {
   "cell_type": "markdown",
   "metadata": {},
   "source": [
    "Around 20% of words which end with 'ed' are verbs. Though it is 20% it is high because this is universal tagset and Verbs contain all the forms of verbs"
   ]
  },
  {
   "cell_type": "code",
   "execution_count": 35,
   "metadata": {},
   "outputs": [
    {
     "name": "stdout",
     "output_type": "stream",
     "text": [
      "0.10810183393948773\n"
     ]
    },
    {
     "data": {
      "text/plain": [
       "[('pending', 'VERB'),\n",
       " ('running', 'VERB'),\n",
       " ('Advancing', 'VERB'),\n",
       " ('tapping', 'VERB'),\n",
       " ('controlling', 'VERB'),\n",
       " ('dominating', 'VERB'),\n",
       " ('resigning', 'VERB'),\n",
       " ('reeling', 'VERB'),\n",
       " ('targeting', 'VERB'),\n",
       " ('changing', 'VERB'),\n",
       " ('shaping', 'VERB'),\n",
       " ('authorizing', 'VERB'),\n",
       " ('pending', 'VERB'),\n",
       " ('responding', 'VERB'),\n",
       " ('waiting', 'VERB'),\n",
       " ('cutting', 'VERB'),\n",
       " ('taking', 'VERB'),\n",
       " ('purchasing', 'VERB'),\n",
       " ('encroaching', 'VERB'),\n",
       " ('cooperating', 'VERB')]"
      ]
     },
     "execution_count": 35,
     "metadata": {},
     "output_type": "execute_result"
    }
   ],
   "source": [
    "# Let us see the percentage of verbs which are classifed as 'verb which end with 'ing'\n",
    "verbs = [pair for pair in train_tagged_words if pair[1]=='VERB']\n",
    "ing_verbs = [pair for pair in verbs if pair[0].endswith('ing')]\n",
    "print(len(ing_verbs) / len(verbs))\n",
    "ing_verbs[:20]"
   ]
  },
  {
   "cell_type": "code",
   "execution_count": 36,
   "metadata": {},
   "outputs": [
    {
     "name": "stdout",
     "output_type": "stream",
     "text": [
      "6080\n",
      "4236\n",
      "0.6967105263157894\n"
     ]
    }
   ],
   "source": [
    "#Lets see percentage of Adjective tags followed by nouns\n",
    "# create a list of all tags (without the words)\n",
    "tags = [pair[1] for pair in train_tagged_words]\n",
    "\n",
    "# create a list of Adj tags\n",
    "adj_tags = [t for t in tags if t == 'ADJ']\n",
    "\n",
    "# create a list of (ADJ, Noun) tags\n",
    "adj_noun_tags = [(t, tags[index+1]) for index, t in enumerate(tags) \n",
    "              if t=='ADJ' and tags[index+1]=='NOUN']\n",
    "\n",
    "print(len(adj_tags))\n",
    "print(len(adj_noun_tags))\n",
    "print(len(adj_noun_tags) / len(adj_tags))"
   ]
  },
  {
   "cell_type": "markdown",
   "metadata": {},
   "source": [
    "Around 70% of adjectives are followed by Nouns"
   ]
  },
  {
   "cell_type": "code",
   "execution_count": 37,
   "metadata": {},
   "outputs": [
    {
     "name": "stdout",
     "output_type": "stream",
     "text": [
      "8300\n",
      "5300\n",
      "0.6385542168674698\n"
     ]
    }
   ],
   "source": [
    "#Lets see percentage of Determinent tags followed by nouns\n",
    "dt_tags = [t for t in tags if t == 'DET']\n",
    "dt_noun_tags = [(t, tags[index+1]) for index, t in enumerate(tags) \n",
    "              if t=='DET' and tags[index+1]=='NOUN']\n",
    "\n",
    "print(len(dt_tags))\n",
    "print(len(dt_noun_tags))\n",
    "print(len(dt_noun_tags) / len(dt_tags))"
   ]
  },
  {
   "cell_type": "markdown",
   "metadata": {},
   "source": [
    "Around 63% of determinants are followed by Nouns"
   ]
  },
  {
   "cell_type": "code",
   "execution_count": 38,
   "metadata": {},
   "outputs": [
    {
     "name": "stdout",
     "output_type": "stream",
     "text": [
      "3007\n",
      "1037\n",
      "0.34486198869304957\n"
     ]
    }
   ],
   "source": [
    "#Lets see percentage of Adverbs tags followed by Verbs\n",
    "adv_tags = [t for t in tags if t == 'ADV']\n",
    "adv_vb_tags = [(t, tags[index+1]) for index, t in enumerate(tags) \n",
    "              if t=='ADV' and tags[index+1]=='VERB']\n",
    "\n",
    "print(len(adv_tags))\n",
    "print(len(adv_vb_tags))\n",
    "print(len(adv_vb_tags) / len(adv_tags))"
   ]
  },
  {
   "cell_type": "markdown",
   "metadata": {},
   "source": [
    "Around 35% of adverbs are followed by verbs"
   ]
  },
  {
   "cell_type": "markdown",
   "metadata": {},
   "source": [
    "Lets use the EDA done above and also grammar to build our rules for regex based tagger"
   ]
  },
  {
   "cell_type": "code",
   "execution_count": 39,
   "metadata": {},
   "outputs": [],
   "source": [
    "# specify patterns for tagging\n",
    "patterns = [\n",
    "    (r'.*ing$', 'VERB'),              # gerund\n",
    "    (r'.*ed$', 'VERB'),               # past tense verbs\n",
    "    (r'.*es$', 'VERB'),               # singular present verbs\n",
    "    (r'.*ould$', 'VERB'),              # modal verbs\n",
    "    (r'.*\\'s$', 'NOUN'),              # possessive nouns\n",
    "    (r'.*s$', 'NOUN'),                # plural nouns\n",
    "    (r'^-?[0-9]+(.[0-9]+)?$', 'NUM'), # cardinal numbers\n",
    "    (r'(The|the|A|a|An|an)$', 'DET'),   # articles or determinants\n",
    "    (r'.*able$', 'ADJ'),                # adjectives\n",
    "    (r'.*ness$', 'NOUN'),                # nouns formed from adjectives\n",
    "    (r'.*ly$', 'ADV'),                  # adverbs\n",
    "    (r'.*', 'NOUN')                    # nouns\n",
    "]"
   ]
  },
  {
   "cell_type": "code",
   "execution_count": 40,
   "metadata": {},
   "outputs": [
    {
     "data": {
      "text/plain": [
       "0.9473789515806322"
      ]
     },
     "execution_count": 40,
     "metadata": {},
     "output_type": "execute_result"
    }
   ],
   "source": [
    "# rule based tagger\n",
    "rule_based_tagger = nltk.RegexpTagger(patterns)\n",
    "\n",
    "# lexicon backed up by the rule-based tagger\n",
    "lexicon_tagger = nltk.UnigramTagger(train_set, backoff=rule_based_tagger)\n",
    "\n",
    "lexicon_tagger.evaluate(test_set)"
   ]
  },
  {
   "cell_type": "markdown",
   "metadata": {},
   "source": [
    "For a Unigram lexicon tagger backed up by a rule based tagger the accuracy is around 94%. Let us improve it further by using N-gram taggers"
   ]
  },
  {
   "cell_type": "markdown",
   "metadata": {},
   "source": [
    "#### Evaluating tagging accuracy"
   ]
  },
  {
   "cell_type": "code",
   "execution_count": 41,
   "metadata": {},
   "outputs": [],
   "source": [
    "#Trigram tagger backed by Bigram backed by Unigram which is backed by rule based tagger\n",
    "t0 = nltk.RegexpTagger(patterns)\n",
    "t1 = nltk.UnigramTagger(train_set, backoff=t0)\n",
    "t2 = nltk.BigramTagger(train_set, backoff=t1)\n",
    "t3 = nltk.TrigramTagger(train_set, backoff=t2)"
   ]
  },
  {
   "cell_type": "markdown",
   "metadata": {},
   "source": [
    "Let us use Brill algorithm as a base algorithm backed by the tagger created above"
   ]
  },
  {
   "cell_type": "code",
   "execution_count": 42,
   "metadata": {},
   "outputs": [],
   "source": [
    "#Import libraries for brill\n",
    "import nltk.tag\n",
    "from nltk.tag import brill\n",
    "from nltk.tag.brill import *\n",
    "from nltk.tbl.template import Template\n",
    "from nltk.tag import BrillTaggerTrainer\n",
    "\n",
    "#Clear existing templates if any\n",
    "Template._cleartemplates()\n",
    "\n",
    "#Load the fntbl37 template\n",
    "templates = fntbl37()\n",
    " \n",
    "#Train the Brill model\n",
    "trainer = BrillTaggerTrainer(t3, templates)\n",
    "brill_tagger = trainer.train(train_set, max_rules=100, min_score=3)"
   ]
  },
  {
   "cell_type": "markdown",
   "metadata": {},
   "source": [
    "The state probabilities for unknown words become zero and hence the Viterbi algorithm updates the unknown words by default with the first tag in the training set.\n",
    "\n",
    "Now lets modify the Viterbi algorithm such that when the state probabilities become zero it updates the tag based on the tagger we created above"
   ]
  },
  {
   "cell_type": "code",
   "execution_count": 77,
   "metadata": {},
   "outputs": [],
   "source": [
    "# Viterbi Heuristic\n",
    "def Viterbi_updated(words, train_bag = train_tagged_words):\n",
    "    state = []\n",
    "    T = list(set([pair[1] for pair in train_bag]))\n",
    "    \n",
    "    for key, word in enumerate(words):\n",
    "        #initialise list of probability column for a given observation\n",
    "        p = [] \n",
    "        for tag in T:\n",
    "            if key == 0:\n",
    "                transition_p = tags_df.loc['.', tag]\n",
    "            else:\n",
    "                transition_p = tags_df.loc[state[-1], tag]\n",
    "                \n",
    "            # compute emission and state probabilities\n",
    "            emission_p = word_given_tag(words[key], tag)[0]/word_given_tag(words[key], tag)[1]\n",
    "            state_probability = emission_p * transition_p    \n",
    "            p.append(state_probability)\n",
    "            \n",
    "        pmax = max(p)\n",
    "       \n",
    "        #Check if state probability is zero\n",
    "        if(pmax==0.0):\n",
    "            #If state probability is zero i.e if the word is unknown if updates the tag based on the brill tagger\n",
    "            state_max = brill_tagger.tag([word])[0][1]\n",
    "        else:\n",
    "            # getting state for which probability is maximum\n",
    "            state_max = T[p.index(pmax)] \n",
    "        state.append(state_max)\n",
    "    return list(zip(words, state))"
   ]
  },
  {
   "cell_type": "markdown",
   "metadata": {},
   "source": [
    "### Compare the tagging accuracies of the modifications with the vanilla Viterbi algorithm"
   ]
  },
  {
   "cell_type": "code",
   "execution_count": 79,
   "metadata": {},
   "outputs": [],
   "source": [
    "# tagging the test sentences with the updated Viterbi algorithm\n",
    "start = time.time()\n",
    "updated_tagged_seq = Viterbi_updated(test_tagged_words)\n",
    "end = time.time()\n",
    "difference = end-start\n",
    "#Print total time taken to train the algorithm\n",
    "print(difference)"
   ]
  },
  {
   "cell_type": "markdown",
   "metadata": {},
   "source": []
  },
  {
   "cell_type": "code",
   "execution_count": 80,
   "metadata": {},
   "outputs": [],
   "source": [
    "# Calculate the accuracy for the updated Viterbi algorithm\n",
    "check = [i for i, j in zip(updated_tagged_seq, test_run_base) if i == j] \n",
    "accuracy = len(check)/len(updated_tagged_seq)\n",
    "accuracy"
   ]
  },
  {
   "cell_type": "markdown",
   "metadata": {},
   "source": [
    "Accuracy is increased much by the updated Viterbi algorithm"
   ]
  },
  {
   "cell_type": "markdown",
   "metadata": {},
   "source": [
    "### List down cases which were incorrectly tagged by original POS tagger and got corrected by your modifications"
   ]
  },
  {
   "cell_type": "code",
   "execution_count": 76,
   "metadata": {},
   "outputs": [
    {
     "name": "stdout",
     "output_type": "stream",
     "text": [
      "[('Android', 'PRT'), ('is', 'VERB'), ('a', 'DET'), ('mobile', 'ADJ'), ('operating', 'NOUN'), ('system', 'NOUN'), ('developed', 'VERB'), ('by', 'ADP'), ('Google', 'PRT'), ('.', '.')]\n",
      "[('Android', 'PRT'), ('has', 'VERB'), ('been', 'VERB'), ('the', 'DET'), ('best-selling', 'ADJ'), ('OS', 'PRT'), ('worldwide', 'PRT'), ('on', 'ADP'), ('smartphones', 'PRT'), ('since', 'ADP'), ('2011', 'PRT'), ('and', 'CONJ'), ('on', 'ADP'), ('tablets', 'NOUN'), ('since', 'ADP'), ('2013', 'PRT'), ('.', '.')]\n",
      "[('Google', 'PRT'), ('and', 'CONJ'), ('Twitter', 'PRT'), ('made', 'VERB'), ('a', 'DET'), ('deal', 'NOUN'), ('in', 'ADP'), ('2015', 'PRT'), ('that', 'DET'), ('gave', 'VERB'), ('Google', 'PRT'), ('access', 'NOUN'), ('to', 'PRT'), ('Twitter', 'PRT'), (\"'s\", 'VERB'), ('firehose', 'PRT'), ('.', '.')]\n",
      "[('Twitter', 'PRT'), ('is', 'VERB'), ('an', 'DET'), ('online', 'PRT'), ('news', 'NOUN'), ('and', 'CONJ'), ('social', 'ADJ'), ('networking', 'NOUN'), ('service', 'NOUN'), ('on', 'ADP'), ('which', 'DET'), ('users', 'NOUN'), ('post', 'NOUN'), ('and', 'CONJ'), ('interact', 'PRT'), ('with', 'ADP'), ('messages', 'PRT'), ('known', 'VERB'), ('as', 'ADP'), ('tweets', 'PRT'), ('.', '.')]\n",
      "[('Before', 'ADP'), ('entering', 'VERB'), ('politics', 'NOUN'), (',', '.'), ('Donald', 'NOUN'), ('Trump', 'NOUN'), ('was', 'VERB'), ('a', 'DET'), ('domineering', 'PRT'), ('businessman', 'NOUN'), ('and', 'CONJ'), ('a', 'DET'), ('television', 'NOUN'), ('personality', 'PRT'), ('.', '.')]\n",
      "[('The', 'DET'), ('2018', 'PRT'), ('FIFA', 'PRT'), ('World', 'NOUN'), ('Cup', 'PRT'), ('is', 'VERB'), ('the', 'DET'), ('21st', 'PRT'), ('FIFA', 'PRT'), ('World', 'NOUN'), ('Cup', 'PRT'), (',', '.'), ('an', 'DET'), ('international', 'ADJ'), ('football', 'NOUN'), ('tournament', 'PRT'), ('contested', 'PRT'), ('once', 'ADV'), ('every', 'DET'), ('four', 'NUM'), ('years', 'NOUN'), ('.', '.')]\n",
      "[('This', 'DET'), ('is', 'VERB'), ('the', 'DET'), ('first', 'ADJ'), ('World', 'NOUN'), ('Cup', 'PRT'), ('to', 'PRT'), ('be', 'VERB'), ('held', 'VERB'), ('in', 'ADP'), ('Eastern', 'NOUN'), ('Europe', 'NOUN'), ('and', 'CONJ'), ('the', 'DET'), ('11th', 'ADJ'), ('time', 'NOUN'), ('that', 'ADP'), ('it', 'PRON'), ('has', 'VERB'), ('been', 'VERB'), ('held', 'VERB'), ('in', 'ADP'), ('Europe', 'NOUN'), ('.', '.')]\n",
      "[('Show', 'NOUN'), ('me', 'PRON'), ('the', 'DET'), ('cheapest', 'ADJ'), ('round', 'NOUN'), ('trips', 'PRT'), ('from', 'ADP'), ('Dallas', 'NOUN'), ('to', 'PRT'), ('Atlanta', 'NOUN')]\n",
      "[('I', 'PRON'), ('would', 'VERB'), ('like', 'ADP'), ('to', 'PRT'), ('see', 'VERB'), ('flights', 'NOUN'), ('from', 'ADP'), ('Denver', 'NOUN'), ('to', 'PRT'), ('Philadelphia', 'NOUN'), ('.', '.')]\n",
      "[('Show', 'NOUN'), ('me', 'PRON'), ('the', 'DET'), ('price', 'NOUN'), ('of', 'ADP'), ('the', 'DET'), ('flights', 'NOUN'), ('leaving', 'VERB'), ('Atlanta', 'NOUN'), ('at', 'ADP'), ('about', 'ADP'), ('3', 'NUM'), ('in', 'ADP'), ('the', 'DET'), ('afternoon', 'NOUN'), ('and', 'CONJ'), ('arriving', 'PRT'), ('in', 'ADP'), ('San', 'NOUN'), ('Francisco', 'NOUN'), ('.', '.')]\n",
      "[('NASA', 'PRT'), ('invited', 'PRT'), ('social', 'ADJ'), ('media', 'NOUN'), ('users', 'NOUN'), ('to', 'PRT'), ('experience', 'NOUN'), ('the', 'DET'), ('launch', 'NOUN'), ('of', 'ADP'), ('ICESAT-2', 'PRT'), ('Satellite', 'PRT'), ('.', '.')]\n"
     ]
    }
   ],
   "source": [
    "#Let us print the test lines with the initial Viterbi algorithm\n",
    "for line in test_lines:\n",
    "    print(list(Viterbi(word_tokenize(line))))"
   ]
  },
  {
   "cell_type": "code",
   "execution_count": 78,
   "metadata": {},
   "outputs": [
    {
     "name": "stdout",
     "output_type": "stream",
     "text": [
      "[('Android', 'NOUN'), ('is', 'VERB'), ('a', 'DET'), ('mobile', 'ADJ'), ('operating', 'NOUN'), ('system', 'NOUN'), ('developed', 'VERB'), ('by', 'ADP'), ('Google', 'NOUN'), ('.', '.')]\n",
      "[('Android', 'NOUN'), ('has', 'VERB'), ('been', 'VERB'), ('the', 'DET'), ('best-selling', 'ADJ'), ('OS', 'NOUN'), ('worldwide', 'NOUN'), ('on', 'ADP'), ('smartphones', 'VERB'), ('since', 'ADP'), ('2011', 'NUM'), ('and', 'CONJ'), ('on', 'ADP'), ('tablets', 'NOUN'), ('since', 'ADP'), ('2013', 'NUM'), ('.', '.')]\n",
      "[('Google', 'NOUN'), ('and', 'CONJ'), ('Twitter', 'NOUN'), ('made', 'VERB'), ('a', 'DET'), ('deal', 'NOUN'), ('in', 'ADP'), ('2015', 'NUM'), ('that', 'ADP'), ('gave', 'VERB'), ('Google', 'NOUN'), ('access', 'NOUN'), ('to', 'PRT'), ('Twitter', 'NOUN'), (\"'s\", 'PRT'), ('firehose', 'NOUN'), ('.', '.')]\n",
      "[('Twitter', 'NOUN'), ('is', 'VERB'), ('an', 'DET'), ('online', 'NOUN'), ('news', 'NOUN'), ('and', 'CONJ'), ('social', 'ADJ'), ('networking', 'NOUN'), ('service', 'NOUN'), ('on', 'ADP'), ('which', 'DET'), ('users', 'NOUN'), ('post', 'NOUN'), ('and', 'CONJ'), ('interact', 'NOUN'), ('with', 'ADP'), ('messages', 'VERB'), ('known', 'VERB'), ('as', 'ADP'), ('tweets', 'NOUN'), ('.', '.')]\n",
      "[('Before', 'ADP'), ('entering', 'VERB'), ('politics', 'NOUN'), (',', '.'), ('Donald', 'NOUN'), ('Trump', 'NOUN'), ('was', 'VERB'), ('a', 'DET'), ('domineering', 'VERB'), ('businessman', 'NOUN'), ('and', 'CONJ'), ('a', 'DET'), ('television', 'NOUN'), ('personality', 'NOUN'), ('.', '.')]\n",
      "[('The', 'DET'), ('2018', 'NUM'), ('FIFA', 'NOUN'), ('World', 'NOUN'), ('Cup', 'NOUN'), ('is', 'VERB'), ('the', 'DET'), ('21st', 'NOUN'), ('FIFA', 'NOUN'), ('World', 'NOUN'), ('Cup', 'NOUN'), (',', '.'), ('an', 'DET'), ('international', 'ADJ'), ('football', 'NOUN'), ('tournament', 'NOUN'), ('contested', 'VERB'), ('once', 'ADV'), ('every', 'DET'), ('four', 'NUM'), ('years', 'NOUN'), ('.', '.')]\n",
      "[('This', 'DET'), ('is', 'VERB'), ('the', 'DET'), ('first', 'ADJ'), ('World', 'NOUN'), ('Cup', 'NOUN'), ('to', 'PRT'), ('be', 'VERB'), ('held', 'VERB'), ('in', 'ADP'), ('Eastern', 'NOUN'), ('Europe', 'NOUN'), ('and', 'CONJ'), ('the', 'DET'), ('11th', 'ADJ'), ('time', 'NOUN'), ('that', 'ADP'), ('it', 'PRON'), ('has', 'VERB'), ('been', 'VERB'), ('held', 'VERB'), ('in', 'ADP'), ('Europe', 'NOUN'), ('.', '.')]\n",
      "[('Show', 'NOUN'), ('me', 'PRON'), ('the', 'DET'), ('cheapest', 'ADJ'), ('round', 'NOUN'), ('trips', 'NOUN'), ('from', 'ADP'), ('Dallas', 'NOUN'), ('to', 'PRT'), ('Atlanta', 'NOUN')]\n",
      "[('I', 'PRON'), ('would', 'VERB'), ('like', 'ADP'), ('to', 'PRT'), ('see', 'VERB'), ('flights', 'NOUN'), ('from', 'ADP'), ('Denver', 'NOUN'), ('to', 'PRT'), ('Philadelphia', 'NOUN'), ('.', '.')]\n",
      "[('Show', 'NOUN'), ('me', 'PRON'), ('the', 'DET'), ('price', 'NOUN'), ('of', 'ADP'), ('the', 'DET'), ('flights', 'NOUN'), ('leaving', 'VERB'), ('Atlanta', 'NOUN'), ('at', 'ADP'), ('about', 'ADP'), ('3', 'NUM'), ('in', 'ADP'), ('the', 'DET'), ('afternoon', 'NOUN'), ('and', 'CONJ'), ('arriving', 'VERB'), ('in', 'ADP'), ('San', 'NOUN'), ('Francisco', 'NOUN'), ('.', '.')]\n",
      "[('NASA', 'NOUN'), ('invited', 'VERB'), ('social', 'ADJ'), ('media', 'NOUN'), ('users', 'NOUN'), ('to', 'PRT'), ('experience', 'NOUN'), ('the', 'DET'), ('launch', 'NOUN'), ('of', 'ADP'), ('ICESAT-2', 'NOUN'), ('Satellite', 'NOUN'), ('.', '.')]\n"
     ]
    }
   ],
   "source": [
    "#Let us print the test lines with the updated Viterbi algorithm\n",
    "for line in test_lines:\n",
    "    print(list(Viterbi_updated(word_tokenize(line))))"
   ]
  },
  {
   "cell_type": "markdown",
   "metadata": {},
   "source": [
    "The following sentences are corrected by the modified viterbi algorithm"
   ]
  },
  {
   "cell_type": "markdown",
   "metadata": {},
   "source": [
    "##### 'Android is a mobile operating system developed by Google.'"
   ]
  },
  {
   "cell_type": "markdown",
   "metadata": {},
   "source": [
    "Here 'Android', 'Google' are unknown words and are incorrectly tagged in the initial viterbi algorithm. However with the updated Viterbi algorithm 'Android' and 'Google' are correctly classified as Nouns though they are unknown words"
   ]
  },
  {
   "cell_type": "markdown",
   "metadata": {},
   "source": [
    "###### 'Android has been the best-selling OS worldwide on smartphones since 2011 and on tablets since 2013.'"
   ]
  },
  {
   "cell_type": "markdown",
   "metadata": {},
   "source": [
    "Here 'Android', 'Google',' worldwide' are unknown words and are incorrectly tagged in the initial viterbi algorithm. However with the updated Viterbi algorithm 'Android' and 'Google' are correctly classified as Nouns though they are unknown words.\n",
    "\n",
    "Also words like '2011' are incorrectly classified with the original algorithm. Because we used rule based tagger as backoff tagger and we have rule for indicating cardinal numbers '2011' is correctly tagged as 'NUM' in the updated viterbi algorithm"
   ]
  },
  {
   "cell_type": "markdown",
   "metadata": {},
   "source": [
    " ##### 'NASA invited social media users to experience the launch of ICESAT-2 Satellite.'"
   ]
  },
  {
   "cell_type": "markdown",
   "metadata": {},
   "source": [
    "Here 'NASA', 'ICESAT-2',' Satellite' are unknown words and are incorrectly tagged in the initial viterbi algorithm. However with the updated Viterbi algorithm 'Android' and 'Google' are correctly classified as Nouns though they are unknown words.\n",
    "\n",
    "Also words like '2011' are incorrectly classified with the original algorithm. Because we used rule based tagger as backoff tagger and we have rule for indicating cardinal numbers '2011' is correctly tagged as 'NUM' in the updated viterbi algorithm"
   ]
  },
  {
   "cell_type": "code",
   "execution_count": 56,
   "metadata": {},
   "outputs": [],
   "source": [
    "# Viterbi Heuristic\n",
    "def Viterbi_updated2(words, train_bag = train_tagged_words):\n",
    "    state = []\n",
    "    T = list(set([pair[1] for pair in train_bag]))\n",
    "    \n",
    "    for key, word in enumerate(words):\n",
    "        #initialise list of probability column for a given observation\n",
    "        p = [] \n",
    "        for tag in T:\n",
    "            if key == 0:\n",
    "                transition_p = tags_df.loc['.', tag]\n",
    "            else:\n",
    "                transition_p = tags_df.loc[state[-1], tag]\n",
    "                \n",
    "            # compute emission and state probabilities\n",
    "            emission_p = word_given_tag(words[key], tag)[0]/word_given_tag(words[key], tag)[1]\n",
    "            state_probability = emission_p * transition_p    \n",
    "            p.append(state_probability)\n",
    "            \n",
    "        pmax = max(p)\n",
    "       \n",
    "        #Check if state probability is zero\n",
    "        if(pmax<0.001):\n",
    "            #If state probability is zero i.e if the word is unknown if updates the tag based on the brill tagger\n",
    "            state_max = brill_tagger.tag([word])[0][1]\n",
    "        else:\n",
    "            # getting state for which probability is maximum\n",
    "            state_max = T[p.index(pmax)] \n",
    "        state.append(state_max)\n",
    "    return list(zip(words, state))"
   ]
  },
  {
   "cell_type": "code",
   "execution_count": 57,
   "metadata": {},
   "outputs": [
    {
     "name": "stdout",
     "output_type": "stream",
     "text": [
      "849.6556088924408\n"
     ]
    }
   ],
   "source": [
    "# tagging the test sentences with the updated Viterbi algorithm\n",
    "start = time.time()\n",
    "updated_tagged_seq = Viterbi_updated2(test_tagged_words)\n",
    "end = time.time()\n",
    "difference = end-start\n",
    "#Print total time taken to train the algorithm\n",
    "print(difference)"
   ]
  },
  {
   "cell_type": "code",
   "execution_count": 58,
   "metadata": {},
   "outputs": [
    {
     "data": {
      "text/plain": [
       "0.9457783113245298"
      ]
     },
     "execution_count": 58,
     "metadata": {},
     "output_type": "execute_result"
    }
   ],
   "source": [
    "# Calculate the accuracy for the updated Viterbi algorithm\n",
    "check = [i for i, j in zip(updated_tagged_seq, test_run_base) if i == j] \n",
    "accuracy = len(check)/len(updated_tagged_seq)\n",
    "accuracy"
   ]
  },
  {
   "cell_type": "code",
   "execution_count": null,
   "metadata": {},
   "outputs": [],
   "source": []
  }
 ],
 "metadata": {
  "kernelspec": {
   "display_name": "Python 3",
   "language": "python",
   "name": "python3"
  },
  "language_info": {
   "codemirror_mode": {
    "name": "ipython",
    "version": 3
   },
   "file_extension": ".py",
   "mimetype": "text/x-python",
   "name": "python",
   "nbconvert_exporter": "python",
   "pygments_lexer": "ipython3",
   "version": "3.6.3"
  }
 },
 "nbformat": 4,
 "nbformat_minor": 2
}
